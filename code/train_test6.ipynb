{
 "cells": [
  {
   "cell_type": "code",
   "execution_count": 209,
   "metadata": {},
   "outputs": [],
   "source": [
    "import numpy as np # linear algebra\n",
    "import pandas as pd # data processing, CSV file I/O (e.g. pd.read_csv)\n",
    "import tensorflow as tf\n",
    "import matplotlib.pyplot as plt\n",
    "import seaborn as sns\n",
    "from sklearn.manifold import TSNE\n",
    "from sklearn.decomposition import PCA, TruncatedSVD\n",
    "import matplotlib.patches as mpatches\n",
    "import time\n",
    "\n",
    "# Classifier Libraries\n",
    "from sklearn.linear_model import LogisticRegression\n",
    "from sklearn.svm import SVC\n",
    "from sklearn.neighbors import KNeighborsClassifier\n",
    "from sklearn.tree import DecisionTreeClassifier\n",
    "from sklearn.ensemble import RandomForestClassifier\n",
    "import collections\n",
    "\n",
    "\n",
    "# Other Libraries\n",
    "from sklearn.model_selection import train_test_split\n",
    "from sklearn.pipeline import make_pipeline\n",
    "from imblearn.pipeline import make_pipeline as imbalanced_make_pipeline\n",
    "from imblearn.over_sampling import SMOTE\n",
    "from imblearn.under_sampling import NearMiss\n",
    "from imblearn.metrics import classification_report_imbalanced\n",
    "from sklearn.metrics import precision_score, recall_score, f1_score, roc_auc_score, accuracy_score, classification_report\n",
    "from collections import Counter\n",
    "from sklearn.model_selection import KFold, StratifiedKFold\n",
    "import warnings\n",
    "\n",
    "import pandas as pd\n",
    "import numpy as np\n",
    "from sklearn.preprocessing import StandardScaler, RobustScaler\n",
    "\n",
    "from sklearn.preprocessing import LabelEncoder\n",
    "from sklearn.linear_model  import LogisticRegression\n",
    "\n",
    "from sklearn import  ensemble, preprocessing, metrics"
   ]
  },
  {
   "cell_type": "code",
   "execution_count": 333,
   "metadata": {},
   "outputs": [],
   "source": [
    "dt = pd.read_csv('../train.csv' , encoding='big5')"
   ]
  },
  {
   "cell_type": "code",
   "execution_count": 334,
   "metadata": {},
   "outputs": [
    {
     "data": {
      "text/plain": [
       "(100000, 132)"
      ]
     },
     "execution_count": 334,
     "metadata": {},
     "output_type": "execute_result"
    }
   ],
   "source": [
    "dt.shape"
   ]
  },
  {
   "cell_type": "code",
   "execution_count": 335,
   "metadata": {},
   "outputs": [],
   "source": [
    "def data_cl(dt):\n",
    "    dt = dt.drop(\"CUS_ID\" ,axis=1)\n",
    "    \n",
    "    ohi = pd.get_dummies(dt[\"GENDER\"])\n",
    "    dt = dt.drop(\"GENDER\",axis=1)\n",
    "    dt = pd.concat([ohi,dt],axis=1)\n",
    "    \n",
    "    ohi = pd.get_dummies(dt[\"AGE\"])\n",
    "    dt = dt.drop(\"AGE\",axis=1)\n",
    "    dt = pd.concat([ohi,dt],axis=1)\n",
    "\n",
    "    labelencoder = LabelEncoder()\n",
    "    for i in dt.keys():    \n",
    "        for a in dt[i]:\n",
    "            if  a is not None and isinstance(a,str):\n",
    "                dt[i] = labelencoder.fit_transform(dt[i].astype(str))\n",
    "                break\n",
    "    \n",
    "    for i in dt.keys():\n",
    "        dt[i] = dt[i].fillna(dt[i].mean())\n",
    "    \n",
    "    return dt    \n",
    "    "
   ]
  },
  {
   "cell_type": "code",
   "execution_count": 336,
   "metadata": {},
   "outputs": [
    {
     "data": {
      "text/plain": [
       "(100000, 135)"
      ]
     },
     "execution_count": 336,
     "metadata": {},
     "output_type": "execute_result"
    }
   ],
   "source": [
    "dt = data_cl(dt)\n",
    "dt.shape"
   ]
  },
  {
   "cell_type": "code",
   "execution_count": 337,
   "metadata": {},
   "outputs": [],
   "source": [
    "def logreg(dt):\n",
    "    x = dt.drop(\"Y1\",axis=1)\n",
    "    y = dt[\"Y1\"]\n",
    "    train_X, test_X, train_y, test_y = train_test_split(x, y, test_size = 0.3)\n",
    "\n",
    "    lr=LogisticRegression()\n",
    "    lr.fit(train_X,train_y)\n",
    "\n",
    "\n",
    "    # 印出截距\n",
    "#     print(lr.intercept_)\n",
    "    # 印出係數\n",
    "    a = abs(lr.coef_)[0]\n",
    "    c =lr.coef_[0]\n",
    "    a = list(a)\n",
    "    c = list(c)\n",
    "    newa = list(c)\n",
    "    newa.sort()\n",
    "    x = []\n",
    "    for i in newa:\n",
    "        if abs(i) < 0.01:\n",
    "            x.append(dt.columns[c.index(i)])\n",
    "    return x"
   ]
  },
  {
   "cell_type": "code",
   "execution_count": 359,
   "metadata": {},
   "outputs": [
    {
     "name": "stderr",
     "output_type": "stream",
     "text": [
      "C:\\ProgramData\\Anaconda3\\lib\\site-packages\\sklearn\\linear_model\\logistic.py:432: FutureWarning: Default solver will be changed to 'lbfgs' in 0.22. Specify a solver to silence this warning.\n",
      "  FutureWarning)\n"
     ]
    }
   ],
   "source": [
    "dropx= logreg(dt)"
   ]
  },
  {
   "cell_type": "code",
   "execution_count": 360,
   "metadata": {},
   "outputs": [
    {
     "data": {
      "text/plain": [
       "['TERMINATION_RATE',\n",
       " 'IF_ISSUE_INSD_D_IND',\n",
       " 'CLC_CUR_NUM',\n",
       " 'APC_1ST_AGE',\n",
       " 'L1YR_C_CNT']"
      ]
     },
     "execution_count": 360,
     "metadata": {},
     "output_type": "execute_result"
    }
   ],
   "source": [
    "dropx"
   ]
  },
  {
   "cell_type": "code",
   "execution_count": 372,
   "metadata": {},
   "outputs": [],
   "source": [
    "pp = []\n",
    "\n",
    "pp.append(dropx)"
   ]
  },
  {
   "cell_type": "code",
   "execution_count": 373,
   "metadata": {},
   "outputs": [
    {
     "data": {
      "text/plain": [
       "[['TERMINATION_RATE',\n",
       "  'IF_ISSUE_INSD_D_IND',\n",
       "  'CLC_CUR_NUM',\n",
       "  'APC_1ST_AGE',\n",
       "  'L1YR_C_CNT']]"
      ]
     },
     "execution_count": 373,
     "metadata": {},
     "output_type": "execute_result"
    }
   ],
   "source": [
    "pp"
   ]
  },
  {
   "cell_type": "code",
   "execution_count": 361,
   "metadata": {},
   "outputs": [
    {
     "data": {
      "text/plain": [
       "(100000, 129)"
      ]
     },
     "execution_count": 361,
     "metadata": {},
     "output_type": "execute_result"
    }
   ],
   "source": [
    "xt = dt.drop(\"Y1\",axis=1)\n",
    "xt = xt.drop(dropx,axis=1)\n",
    "xt.shape"
   ]
  },
  {
   "cell_type": "code",
   "execution_count": 350,
   "metadata": {},
   "outputs": [],
   "source": [
    "from keras import models\n",
    "from keras import layers\n",
    "from keras.layers.core import Dense , Dropout , Activation\n",
    "\n",
    "model = models.Sequential()\n",
    "model.add(layers.Dense(1024 ,input_shape=(xt.shape[1],)))\n",
    "model.add(Activation(\"relu\"))\n",
    "model.add(Dropout(0.2))\n",
    "\n",
    "model.add(layers.Dense(512))\n",
    "model.add(Activation(\"relu\"))\n",
    "model.add(Dropout(0.2))\n",
    "\n",
    "model.add(layers.Dense(256))\n",
    "model.add(Activation(\"relu\"))\n",
    "model.add(Dropout(0.2))\n",
    "\n",
    "model.add(layers.Dense(128))\n",
    "model.add(Activation(\"relu\"))\n",
    "model.add(Dropout(0.2))\n",
    "\n",
    "model.add(layers.Dense(64))\n",
    "model.add(Activation(\"relu\"))\n",
    "model.add(Dropout(0.2))\n",
    "\n",
    "model.add(layers.Dense(32))\n",
    "model.add(Activation(\"relu\"))\n",
    "model.add(Dropout(0.2))\n",
    "\n",
    "model.add(layers.Dense(16))\n",
    "model.add(Activation(\"relu\"))\n",
    "model.add(Dropout(0.2))\n",
    "\n",
    "model.add(layers.Dense(8))\n",
    "model.add(Activation(\"relu\"))\n",
    "model.add(Dropout(0.2))\n",
    "\n",
    "model.add(layers.Dense(4))\n",
    "model.add(Activation(\"relu\"))\n",
    "model.add(Dropout(0.2))\n",
    "\n",
    "model.add(layers.Dense(2))\n",
    "model.add(Activation(\"relu\"))\n",
    "model.add(Dropout(0.2))\n",
    "\n",
    "model.add(Dense(1))\n",
    "model.compile(optimizer='adam', loss='mse', metrics=['acc'])"
   ]
  },
  {
   "cell_type": "code",
   "execution_count": 342,
   "metadata": {},
   "outputs": [
    {
     "data": {
      "text/plain": [
       "(100000, 127)"
      ]
     },
     "execution_count": 342,
     "metadata": {},
     "output_type": "execute_result"
    }
   ],
   "source": [
    "xt.shape"
   ]
  },
  {
   "cell_type": "code",
   "execution_count": 352,
   "metadata": {},
   "outputs": [
    {
     "data": {
      "text/plain": [
       "(4000, 126)"
      ]
     },
     "execution_count": 352,
     "metadata": {},
     "output_type": "execute_result"
    }
   ],
   "source": [
    "# ft = dt.drop(\"Y1\",axis=1)\n",
    "ft = dt.drop(dropx,axis=1)\n",
    "fix_dt = ft.sample(frac = 1)\n",
    "\n",
    "fraud_dt = fix_dt.loc[dt['Y1'] == 1]\n",
    "non_fraud_dt = fix_dt.loc[dt['Y1'] == 0][:2000]\n",
    "\n",
    "normal_distributed_dt = pd.concat([fraud_dt, non_fraud_dt])\n",
    "\n",
    "new_dtf = normal_distributed_dt.sample(frac=1)\n",
    "# new_dt = normal_distributed_dt.sample(frac=1, random_state=42)\n",
    "\n",
    "new_dtf.shape"
   ]
  },
  {
   "cell_type": "code",
   "execution_count": 353,
   "metadata": {
    "scrolled": true
   },
   "outputs": [
    {
     "name": "stdout",
     "output_type": "stream",
     "text": [
      "Epoch 1/200\n",
      "4000/4000 [==============================] - 2s 534us/step - loss: 0.3928 - acc: 0.5255\n",
      "Epoch 2/200\n",
      "4000/4000 [==============================] - 1s 302us/step - loss: 0.3313 - acc: 0.5410\n",
      "Epoch 3/200\n",
      "4000/4000 [==============================] - 1s 321us/step - loss: 0.3011 - acc: 0.5617\n",
      "Epoch 4/200\n",
      "4000/4000 [==============================] - 1s 314us/step - loss: 0.2818 - acc: 0.5788\n",
      "Epoch 5/200\n",
      "4000/4000 [==============================] - 1s 349us/step - loss: 0.2769 - acc: 0.5900\n",
      "Epoch 6/200\n",
      "4000/4000 [==============================] - 1s 351us/step - loss: 0.2693 - acc: 0.5965\n",
      "Epoch 7/200\n",
      "4000/4000 [==============================] - 1s 360us/step - loss: 0.2635 - acc: 0.6033\n",
      "Epoch 8/200\n",
      "4000/4000 [==============================] - 1s 334us/step - loss: 0.2558 - acc: 0.6100\n",
      "Epoch 9/200\n",
      "4000/4000 [==============================] - 1s 330us/step - loss: 0.2516 - acc: 0.6135\n",
      "Epoch 10/200\n",
      "4000/4000 [==============================] - 1s 352us/step - loss: 0.2473 - acc: 0.6277\n",
      "Epoch 11/200\n",
      "4000/4000 [==============================] - 1s 307us/step - loss: 0.2440 - acc: 0.6267\n",
      "Epoch 12/200\n",
      "4000/4000 [==============================] - 1s 304us/step - loss: 0.2391 - acc: 0.6373\n",
      "Epoch 13/200\n",
      "4000/4000 [==============================] - 1s 303us/step - loss: 0.2377 - acc: 0.6313\n",
      "Epoch 14/200\n",
      "4000/4000 [==============================] - 1s 302us/step - loss: 0.2410 - acc: 0.6220\n",
      "Epoch 15/200\n",
      "4000/4000 [==============================] - 1s 303us/step - loss: 0.2335 - acc: 0.6442\n",
      "Epoch 16/200\n",
      "4000/4000 [==============================] - 1s 302us/step - loss: 0.2309 - acc: 0.6475\n",
      "Epoch 17/200\n",
      "4000/4000 [==============================] - 1s 308us/step - loss: 0.2304 - acc: 0.6463\n",
      "Epoch 18/200\n",
      "4000/4000 [==============================] - 1s 305us/step - loss: 0.2289 - acc: 0.6575\n",
      "Epoch 19/200\n",
      "4000/4000 [==============================] - 1s 300us/step - loss: 0.2276 - acc: 0.6643\n",
      "Epoch 20/200\n",
      "4000/4000 [==============================] - 1s 301us/step - loss: 0.2297 - acc: 0.6453\n",
      "Epoch 21/200\n",
      "4000/4000 [==============================] - 1s 301us/step - loss: 0.2219 - acc: 0.6655\n",
      "Epoch 22/200\n",
      "4000/4000 [==============================] - 1s 306us/step - loss: 0.2210 - acc: 0.6653\n",
      "Epoch 23/200\n",
      "4000/4000 [==============================] - 1s 302us/step - loss: 0.2199 - acc: 0.6715\n",
      "Epoch 24/200\n",
      "4000/4000 [==============================] - 1s 309us/step - loss: 0.2181 - acc: 0.6733\n",
      "Epoch 25/200\n",
      "4000/4000 [==============================] - 1s 307us/step - loss: 0.2135 - acc: 0.6800\n",
      "Epoch 26/200\n",
      "4000/4000 [==============================] - 1s 308us/step - loss: 0.2159 - acc: 0.6745\n",
      "Epoch 27/200\n",
      "4000/4000 [==============================] - 1s 309us/step - loss: 0.2138 - acc: 0.6687\n",
      "Epoch 28/200\n",
      "4000/4000 [==============================] - 1s 306us/step - loss: 0.2078 - acc: 0.6917\n",
      "Epoch 29/200\n",
      "4000/4000 [==============================] - 1s 311us/step - loss: 0.2090 - acc: 0.6840\n",
      "Epoch 30/200\n",
      "4000/4000 [==============================] - 1s 309us/step - loss: 0.2068 - acc: 0.6925\n",
      "Epoch 31/200\n",
      "4000/4000 [==============================] - 1s 305us/step - loss: 0.2117 - acc: 0.6815\n",
      "Epoch 32/200\n",
      "4000/4000 [==============================] - 1s 309us/step - loss: 0.2051 - acc: 0.7067\n",
      "Epoch 33/200\n",
      "4000/4000 [==============================] - 1s 333us/step - loss: 0.2098 - acc: 0.6905\n",
      "Epoch 34/200\n",
      "4000/4000 [==============================] - 1s 334us/step - loss: 0.2012 - acc: 0.7067\n",
      "Epoch 35/200\n",
      "4000/4000 [==============================] - 1s 347us/step - loss: 0.2037 - acc: 0.6980\n",
      "Epoch 36/200\n",
      "4000/4000 [==============================] - 2s 376us/step - loss: 0.2047 - acc: 0.7042\n",
      "Epoch 37/200\n",
      "4000/4000 [==============================] - 1s 332us/step - loss: 0.2051 - acc: 0.7023\n",
      "Epoch 38/200\n",
      "4000/4000 [==============================] - 1s 324us/step - loss: 0.1988 - acc: 0.7188\n",
      "Epoch 39/200\n",
      "4000/4000 [==============================] - 1s 330us/step - loss: 0.2032 - acc: 0.7065\n",
      "Epoch 40/200\n",
      "4000/4000 [==============================] - 1s 338us/step - loss: 0.1990 - acc: 0.7143\n",
      "Epoch 41/200\n",
      "4000/4000 [==============================] - 1s 350us/step - loss: 0.1998 - acc: 0.7105\n",
      "Epoch 42/200\n",
      "4000/4000 [==============================] - 1s 333us/step - loss: 0.2009 - acc: 0.7103\n",
      "Epoch 43/200\n",
      "4000/4000 [==============================] - 1s 328us/step - loss: 0.2017 - acc: 0.7085\n",
      "Epoch 44/200\n",
      "4000/4000 [==============================] - 2s 408us/step - loss: 0.2010 - acc: 0.7097\n",
      "Epoch 45/200\n",
      "4000/4000 [==============================] - 1s 345us/step - loss: 0.2019 - acc: 0.7070\n",
      "Epoch 46/200\n",
      "4000/4000 [==============================] - 1s 338us/step - loss: 0.1931 - acc: 0.7295\n",
      "Epoch 47/200\n",
      "4000/4000 [==============================] - 2s 390us/step - loss: 0.2079 - acc: 0.6925\n",
      "Epoch 48/200\n",
      "4000/4000 [==============================] - 1s 348us/step - loss: 0.1947 - acc: 0.7262\n",
      "Epoch 49/200\n",
      "4000/4000 [==============================] - 2s 387us/step - loss: 0.2024 - acc: 0.7053\n",
      "Epoch 50/200\n",
      "4000/4000 [==============================] - 2s 407us/step - loss: 0.1967 - acc: 0.7215\n",
      "Epoch 51/200\n",
      "4000/4000 [==============================] - 2s 400us/step - loss: 0.1933 - acc: 0.7310\n",
      "Epoch 52/200\n",
      "4000/4000 [==============================] - 2s 449us/step - loss: 0.1949 - acc: 0.7260\n",
      "Epoch 53/200\n",
      "4000/4000 [==============================] - 1s 328us/step - loss: 0.1910 - acc: 0.7308\n",
      "Epoch 54/200\n",
      "4000/4000 [==============================] - 1s 374us/step - loss: 0.1921 - acc: 0.7300\n",
      "Epoch 55/200\n",
      "4000/4000 [==============================] - 1s 373us/step - loss: 0.1887 - acc: 0.7430\n",
      "Epoch 56/200\n",
      "4000/4000 [==============================] - 1s 323us/step - loss: 0.1898 - acc: 0.7335\n",
      "Epoch 57/200\n",
      "4000/4000 [==============================] - 1s 313us/step - loss: 0.1879 - acc: 0.7385\n",
      "Epoch 58/200\n",
      "4000/4000 [==============================] - 1s 339us/step - loss: 0.1908 - acc: 0.7275\n",
      "Epoch 59/200\n",
      "4000/4000 [==============================] - 1s 337us/step - loss: 0.1895 - acc: 0.7377\n",
      "Epoch 60/200\n",
      "4000/4000 [==============================] - 1s 320us/step - loss: 0.1884 - acc: 0.7345\n",
      "Epoch 61/200\n",
      "4000/4000 [==============================] - 1s 311us/step - loss: 0.1970 - acc: 0.7212\n",
      "Epoch 62/200\n",
      "4000/4000 [==============================] - 1s 330us/step - loss: 0.1936 - acc: 0.7305\n",
      "Epoch 63/200\n",
      "4000/4000 [==============================] - 1s 325us/step - loss: 0.1914 - acc: 0.7327\n",
      "Epoch 64/200\n",
      "4000/4000 [==============================] - 1s 321us/step - loss: 0.1854 - acc: 0.7460\n",
      "Epoch 65/200\n",
      "4000/4000 [==============================] - 2s 384us/step - loss: 0.1874 - acc: 0.7387\n",
      "Epoch 66/200\n",
      "4000/4000 [==============================] - 1s 326us/step - loss: 0.1898 - acc: 0.7350\n",
      "Epoch 67/200\n",
      "4000/4000 [==============================] - 2s 412us/step - loss: 0.1901 - acc: 0.7335\n",
      "Epoch 68/200\n",
      "4000/4000 [==============================] - 2s 378us/step - loss: 0.1905 - acc: 0.7350\n",
      "Epoch 69/200\n",
      "4000/4000 [==============================] - 1s 344us/step - loss: 0.1864 - acc: 0.7400\n",
      "Epoch 70/200\n",
      "4000/4000 [==============================] - 1s 324us/step - loss: 0.1915 - acc: 0.7340\n",
      "Epoch 71/200\n",
      "4000/4000 [==============================] - 2s 381us/step - loss: 0.1935 - acc: 0.7283\n",
      "Epoch 72/200\n",
      "4000/4000 [==============================] - 2s 397us/step - loss: 0.1865 - acc: 0.7390\n",
      "Epoch 73/200\n",
      "4000/4000 [==============================] - 2s 389us/step - loss: 0.1857 - acc: 0.7398\n",
      "Epoch 74/200\n",
      "4000/4000 [==============================] - 1s 353us/step - loss: 0.1807 - acc: 0.7550 0s - loss: 0.1787\n",
      "Epoch 75/200\n",
      "4000/4000 [==============================] - 2s 395us/step - loss: 0.1870 - acc: 0.7385\n",
      "Epoch 76/200\n",
      "4000/4000 [==============================] - 2s 423us/step - loss: 0.1979 - acc: 0.7172\n",
      "Epoch 77/200\n",
      "4000/4000 [==============================] - 2s 382us/step - loss: 0.1863 - acc: 0.7387\n",
      "Epoch 78/200\n",
      "4000/4000 [==============================] - 2s 503us/step - loss: 0.1856 - acc: 0.7395\n",
      "Epoch 79/200\n",
      "4000/4000 [==============================] - 1s 331us/step - loss: 0.1785 - acc: 0.7582\n",
      "Epoch 80/200\n",
      "4000/4000 [==============================] - 1s 351us/step - loss: 0.1850 - acc: 0.7430\n",
      "Epoch 81/200\n",
      "4000/4000 [==============================] - 2s 376us/step - loss: 0.1795 - acc: 0.7567\n",
      "Epoch 82/200\n"
     ]
    },
    {
     "name": "stdout",
     "output_type": "stream",
     "text": [
      "4000/4000 [==============================] - 2s 395us/step - loss: 0.1807 - acc: 0.7510\n",
      "Epoch 83/200\n",
      "4000/4000 [==============================] - 2s 431us/step - loss: 0.1846 - acc: 0.7427\n",
      "Epoch 84/200\n",
      "4000/4000 [==============================] - 2s 461us/step - loss: 0.1766 - acc: 0.7588\n",
      "Epoch 85/200\n",
      "4000/4000 [==============================] - 2s 417us/step - loss: 0.1719 - acc: 0.7700\n",
      "Epoch 86/200\n",
      "4000/4000 [==============================] - 1s 313us/step - loss: 0.1735 - acc: 0.7657\n",
      "Epoch 87/200\n",
      "4000/4000 [==============================] - 1s 304us/step - loss: 0.1752 - acc: 0.7638\n",
      "Epoch 88/200\n",
      "4000/4000 [==============================] - 1s 311us/step - loss: 0.1775 - acc: 0.7567\n",
      "Epoch 89/200\n",
      "4000/4000 [==============================] - 1s 310us/step - loss: 0.1744 - acc: 0.7628\n",
      "Epoch 90/200\n",
      "4000/4000 [==============================] - 1s 372us/step - loss: 0.1747 - acc: 0.7623\n",
      "Epoch 91/200\n",
      "4000/4000 [==============================] - 2s 502us/step - loss: 0.1739 - acc: 0.7678\n",
      "Epoch 92/200\n",
      "4000/4000 [==============================] - 2s 538us/step - loss: 0.1786 - acc: 0.7527\n",
      "Epoch 93/200\n",
      "4000/4000 [==============================] - 2s 583us/step - loss: 0.1753 - acc: 0.7635\n",
      "Epoch 94/200\n",
      "4000/4000 [==============================] - 2s 490us/step - loss: 0.1842 - acc: 0.7418\n",
      "Epoch 95/200\n",
      "4000/4000 [==============================] - 2s 411us/step - loss: 0.1828 - acc: 0.7508\n",
      "Epoch 96/200\n",
      "4000/4000 [==============================] - 2s 412us/step - loss: 0.1777 - acc: 0.7613\n",
      "Epoch 97/200\n",
      "4000/4000 [==============================] - 2s 425us/step - loss: 0.1770 - acc: 0.7605\n",
      "Epoch 98/200\n",
      "4000/4000 [==============================] - 2s 415us/step - loss: 0.1752 - acc: 0.7642\n",
      "Epoch 99/200\n",
      "4000/4000 [==============================] - 2s 398us/step - loss: 0.1775 - acc: 0.7625\n",
      "Epoch 100/200\n",
      "4000/4000 [==============================] - 2s 445us/step - loss: 0.1751 - acc: 0.7638\n",
      "Epoch 101/200\n",
      "4000/4000 [==============================] - 2s 481us/step - loss: 0.1713 - acc: 0.7692 1s - loss: 0\n",
      "Epoch 102/200\n",
      "4000/4000 [==============================] - 2s 402us/step - loss: 0.1719 - acc: 0.7645\n",
      "Epoch 103/200\n",
      "4000/4000 [==============================] - 2s 405us/step - loss: 0.1724 - acc: 0.7667\n",
      "Epoch 104/200\n",
      "4000/4000 [==============================] - 1s 344us/step - loss: 0.1717 - acc: 0.7707\n",
      "Epoch 105/200\n",
      "4000/4000 [==============================] - 2s 405us/step - loss: 0.1668 - acc: 0.7775\n",
      "Epoch 106/200\n",
      "4000/4000 [==============================] - 2s 382us/step - loss: 0.1751 - acc: 0.7645\n",
      "Epoch 107/200\n",
      "4000/4000 [==============================] - 2s 387us/step - loss: 0.1697 - acc: 0.7763\n",
      "Epoch 108/200\n",
      "4000/4000 [==============================] - 2s 408us/step - loss: 0.1773 - acc: 0.7530\n",
      "Epoch 109/200\n",
      "4000/4000 [==============================] - 2s 394us/step - loss: 0.1712 - acc: 0.7690\n",
      "Epoch 110/200\n",
      "4000/4000 [==============================] - 1s 370us/step - loss: 0.1705 - acc: 0.7695\n",
      "Epoch 111/200\n",
      "4000/4000 [==============================] - 1s 363us/step - loss: 0.1654 - acc: 0.7845\n",
      "Epoch 112/200\n",
      "4000/4000 [==============================] - 1s 357us/step - loss: 0.1691 - acc: 0.7720\n",
      "Epoch 113/200\n",
      "4000/4000 [==============================] - 2s 400us/step - loss: 0.1746 - acc: 0.7642\n",
      "Epoch 114/200\n",
      "4000/4000 [==============================] - 2s 424us/step - loss: 0.1702 - acc: 0.7722 1s - lo\n",
      "Epoch 115/200\n",
      "4000/4000 [==============================] - 2s 401us/step - loss: 0.1649 - acc: 0.7782\n",
      "Epoch 116/200\n",
      "4000/4000 [==============================] - 2s 392us/step - loss: 0.1672 - acc: 0.7815\n",
      "Epoch 117/200\n",
      "4000/4000 [==============================] - 2s 456us/step - loss: 0.1642 - acc: 0.7815 0s - loss: 0.1647\n",
      "Epoch 118/200\n",
      "4000/4000 [==============================] - 1s 375us/step - loss: 0.1621 - acc: 0.7943\n",
      "Epoch 119/200\n",
      "4000/4000 [==============================] - 1s 341us/step - loss: 0.1652 - acc: 0.7818\n",
      "Epoch 120/200\n",
      "4000/4000 [==============================] - 1s 334us/step - loss: 0.1667 - acc: 0.7812\n",
      "Epoch 121/200\n",
      "4000/4000 [==============================] - 2s 442us/step - loss: 0.1656 - acc: 0.7822\n",
      "Epoch 122/200\n",
      "4000/4000 [==============================] - 2s 381us/step - loss: 0.1617 - acc: 0.7887\n",
      "Epoch 123/200\n",
      "4000/4000 [==============================] - 1s 313us/step - loss: 0.1622 - acc: 0.7857\n",
      "Epoch 124/200\n",
      "4000/4000 [==============================] - 1s 311us/step - loss: 0.1646 - acc: 0.7810\n",
      "Epoch 125/200\n",
      "4000/4000 [==============================] - 1s 323us/step - loss: 0.1628 - acc: 0.7845\n",
      "Epoch 126/200\n",
      "4000/4000 [==============================] - 1s 371us/step - loss: 0.1670 - acc: 0.7742\n",
      "Epoch 127/200\n",
      "4000/4000 [==============================] - 1s 356us/step - loss: 0.1630 - acc: 0.7825\n",
      "Epoch 128/200\n",
      "4000/4000 [==============================] - 1s 341us/step - loss: 0.1616 - acc: 0.7880\n",
      "Epoch 129/200\n",
      "4000/4000 [==============================] - 2s 376us/step - loss: 0.1632 - acc: 0.7857\n",
      "Epoch 130/200\n",
      "4000/4000 [==============================] - 1s 331us/step - loss: 0.1680 - acc: 0.7753\n",
      "Epoch 131/200\n",
      "4000/4000 [==============================] - 2s 376us/step - loss: 0.1663 - acc: 0.7780\n",
      "Epoch 132/200\n",
      "4000/4000 [==============================] - 1s 341us/step - loss: 0.1757 - acc: 0.7665\n",
      "Epoch 133/200\n",
      "4000/4000 [==============================] - 1s 368us/step - loss: 0.1787 - acc: 0.7492\n",
      "Epoch 134/200\n",
      "4000/4000 [==============================] - 1s 349us/step - loss: 0.1616 - acc: 0.7875\n",
      "Epoch 135/200\n",
      "4000/4000 [==============================] - 1s 348us/step - loss: 0.1719 - acc: 0.7720\n",
      "Epoch 136/200\n",
      "4000/4000 [==============================] - 1s 357us/step - loss: 0.1629 - acc: 0.7793\n",
      "Epoch 137/200\n",
      "4000/4000 [==============================] - 1s 368us/step - loss: 0.1602 - acc: 0.7903\n",
      "Epoch 138/200\n",
      "4000/4000 [==============================] - 1s 357us/step - loss: 0.1612 - acc: 0.7855\n",
      "Epoch 139/200\n",
      "4000/4000 [==============================] - 2s 436us/step - loss: 0.1613 - acc: 0.7872\n",
      "Epoch 140/200\n",
      "4000/4000 [==============================] - 2s 384us/step - loss: 0.1590 - acc: 0.7910\n",
      "Epoch 141/200\n",
      "4000/4000 [==============================] - 1s 340us/step - loss: 0.1569 - acc: 0.7940\n",
      "Epoch 142/200\n",
      "4000/4000 [==============================] - 1s 366us/step - loss: 0.1617 - acc: 0.7832\n",
      "Epoch 143/200\n",
      "4000/4000 [==============================] - 2s 381us/step - loss: 0.1570 - acc: 0.7972\n",
      "Epoch 144/200\n",
      "4000/4000 [==============================] - 1s 354us/step - loss: 0.1624 - acc: 0.7825\n",
      "Epoch 145/200\n",
      "4000/4000 [==============================] - 1s 311us/step - loss: 0.1630 - acc: 0.7862\n",
      "Epoch 146/200\n",
      "4000/4000 [==============================] - 2s 380us/step - loss: 0.1594 - acc: 0.7890\n",
      "Epoch 147/200\n",
      "4000/4000 [==============================] - 2s 384us/step - loss: 0.1630 - acc: 0.7850\n",
      "Epoch 148/200\n",
      "4000/4000 [==============================] - 2s 392us/step - loss: 0.1594 - acc: 0.7922\n",
      "Epoch 149/200\n",
      "4000/4000 [==============================] - 1s 365us/step - loss: 0.1623 - acc: 0.7855\n",
      "Epoch 150/200\n",
      "4000/4000 [==============================] - 1s 332us/step - loss: 0.1553 - acc: 0.7962\n",
      "Epoch 151/200\n",
      "4000/4000 [==============================] - 1s 372us/step - loss: 0.1500 - acc: 0.8083\n",
      "Epoch 152/200\n",
      "4000/4000 [==============================] - 1s 346us/step - loss: 0.1546 - acc: 0.8002\n",
      "Epoch 153/200\n",
      "4000/4000 [==============================] - 1s 323us/step - loss: 0.1563 - acc: 0.7918\n",
      "Epoch 154/200\n",
      "4000/4000 [==============================] - 1s 350us/step - loss: 0.1597 - acc: 0.7928\n",
      "Epoch 155/200\n",
      "4000/4000 [==============================] - 2s 422us/step - loss: 0.1604 - acc: 0.7868\n",
      "Epoch 156/200\n",
      "4000/4000 [==============================] - 1s 375us/step - loss: 0.1573 - acc: 0.7965\n",
      "Epoch 157/200\n",
      "4000/4000 [==============================] - 2s 389us/step - loss: 0.1645 - acc: 0.7837\n",
      "Epoch 158/200\n",
      "4000/4000 [==============================] - 1s 362us/step - loss: 0.1618 - acc: 0.7865\n",
      "Epoch 159/200\n",
      "4000/4000 [==============================] - 2s 399us/step - loss: 0.1679 - acc: 0.7710\n",
      "Epoch 160/200\n",
      "4000/4000 [==============================] - 1s 348us/step - loss: 0.1636 - acc: 0.7832\n",
      "Epoch 161/200\n",
      "4000/4000 [==============================] - 2s 418us/step - loss: 0.1748 - acc: 0.7615\n",
      "Epoch 162/200\n"
     ]
    },
    {
     "name": "stdout",
     "output_type": "stream",
     "text": [
      "4000/4000 [==============================] - 1s 354us/step - loss: 0.1566 - acc: 0.7990\n",
      "Epoch 163/200\n",
      "4000/4000 [==============================] - 2s 535us/step - loss: 0.1568 - acc: 0.7945\n",
      "Epoch 164/200\n",
      "4000/4000 [==============================] - 2s 415us/step - loss: 0.1552 - acc: 0.7977\n",
      "Epoch 165/200\n",
      "4000/4000 [==============================] - 2s 437us/step - loss: 0.1627 - acc: 0.7847\n",
      "Epoch 166/200\n",
      "4000/4000 [==============================] - 1s 319us/step - loss: 0.1553 - acc: 0.7977\n",
      "Epoch 167/200\n",
      "4000/4000 [==============================] - 1s 330us/step - loss: 0.1621 - acc: 0.7812\n",
      "Epoch 168/200\n",
      "4000/4000 [==============================] - 2s 422us/step - loss: 0.1599 - acc: 0.7915\n",
      "Epoch 169/200\n",
      "4000/4000 [==============================] - 1s 307us/step - loss: 0.1620 - acc: 0.7862\n",
      "Epoch 170/200\n",
      "4000/4000 [==============================] - 1s 326us/step - loss: 0.1565 - acc: 0.7980\n",
      "Epoch 171/200\n",
      "4000/4000 [==============================] - 2s 431us/step - loss: 0.1648 - acc: 0.7822\n",
      "Epoch 172/200\n",
      "4000/4000 [==============================] - 2s 494us/step - loss: 0.1661 - acc: 0.7785\n",
      "Epoch 173/200\n",
      "4000/4000 [==============================] - 1s 309us/step - loss: 0.1579 - acc: 0.7965\n",
      "Epoch 174/200\n",
      "4000/4000 [==============================] - 1s 332us/step - loss: 0.1632 - acc: 0.7818\n",
      "Epoch 175/200\n",
      "4000/4000 [==============================] - 1s 305us/step - loss: 0.1627 - acc: 0.7828\n",
      "Epoch 176/200\n",
      "4000/4000 [==============================] - 1s 297us/step - loss: 0.1648 - acc: 0.7815\n",
      "Epoch 177/200\n",
      "4000/4000 [==============================] - 1s 296us/step - loss: 0.1621 - acc: 0.7860\n",
      "Epoch 178/200\n",
      "4000/4000 [==============================] - 1s 299us/step - loss: 0.1578 - acc: 0.7962\n",
      "Epoch 179/200\n",
      "4000/4000 [==============================] - 1s 305us/step - loss: 0.1546 - acc: 0.8018\n",
      "Epoch 180/200\n",
      "4000/4000 [==============================] - 1s 304us/step - loss: 0.1523 - acc: 0.8062\n",
      "Epoch 181/200\n",
      "4000/4000 [==============================] - 1s 313us/step - loss: 0.1579 - acc: 0.7950 0s - loss: 0.1555 - a\n",
      "Epoch 182/200\n",
      "4000/4000 [==============================] - 1s 326us/step - loss: 0.1600 - acc: 0.7893\n",
      "Epoch 183/200\n",
      "4000/4000 [==============================] - 1s 346us/step - loss: 0.1598 - acc: 0.7875\n",
      "Epoch 184/200\n",
      "4000/4000 [==============================] - 1s 335us/step - loss: 0.1594 - acc: 0.7870\n",
      "Epoch 185/200\n",
      "4000/4000 [==============================] - 1s 298us/step - loss: 0.1559 - acc: 0.7925\n",
      "Epoch 186/200\n",
      "4000/4000 [==============================] - 1s 298us/step - loss: 0.1594 - acc: 0.7855\n",
      "Epoch 187/200\n",
      "4000/4000 [==============================] - 1s 312us/step - loss: 0.1510 - acc: 0.8075\n",
      "Epoch 188/200\n",
      "4000/4000 [==============================] - 1s 303us/step - loss: 0.1559 - acc: 0.7980\n",
      "Epoch 189/200\n",
      "4000/4000 [==============================] - 1s 302us/step - loss: 0.1525 - acc: 0.8065\n",
      "Epoch 190/200\n",
      "4000/4000 [==============================] - 1s 301us/step - loss: 0.1503 - acc: 0.8070\n",
      "Epoch 191/200\n",
      "4000/4000 [==============================] - 1s 304us/step - loss: 0.1519 - acc: 0.8098\n",
      "Epoch 192/200\n",
      "4000/4000 [==============================] - 1s 303us/step - loss: 0.1490 - acc: 0.8108\n",
      "Epoch 193/200\n",
      "4000/4000 [==============================] - 1s 299us/step - loss: 0.1527 - acc: 0.8037\n",
      "Epoch 194/200\n",
      "4000/4000 [==============================] - 1s 304us/step - loss: 0.1517 - acc: 0.8033\n",
      "Epoch 195/200\n",
      "4000/4000 [==============================] - 1s 303us/step - loss: 0.1591 - acc: 0.7940\n",
      "Epoch 196/200\n",
      "4000/4000 [==============================] - 1s 300us/step - loss: 0.1525 - acc: 0.8045\n",
      "Epoch 197/200\n",
      "4000/4000 [==============================] - 1s 301us/step - loss: 0.1525 - acc: 0.8035\n",
      "Epoch 198/200\n",
      "4000/4000 [==============================] - 1s 311us/step - loss: 0.1511 - acc: 0.8062\n",
      "Epoch 199/200\n",
      "4000/4000 [==============================] - 1s 317us/step - loss: 0.1569 - acc: 0.7930\n",
      "Epoch 200/200\n",
      "4000/4000 [==============================] - 1s 307us/step - loss: 0.1642 - acc: 0.7822\n"
     ]
    },
    {
     "data": {
      "text/plain": [
       "<keras.callbacks.callbacks.History at 0x2bbadb3a7f0>"
      ]
     },
     "execution_count": 353,
     "metadata": {},
     "output_type": "execute_result"
    }
   ],
   "source": [
    "x = new_dtf.drop(\"Y1\",axis=1)\n",
    "y = new_dtf[\"Y1\"]\n",
    "\n",
    "# x = dt.drop(\"Y1\",axis=1)\n",
    "# y = dt[\"Y1\"]\n",
    "\n",
    "model.fit(x,y, epochs=200, batch_size=134 ,verbose=1)"
   ]
  },
  {
   "cell_type": "code",
   "execution_count": 364,
   "metadata": {
    "scrolled": true
   },
   "outputs": [
    {
     "name": "stdout",
     "output_type": "stream",
     "text": [
      "4000/4000 [==============================] - 1s 175us/step\n"
     ]
    }
   ],
   "source": [
    "p = model.evaluate(x,y)  "
   ]
  },
  {
   "cell_type": "code",
   "execution_count": 369,
   "metadata": {},
   "outputs": [],
   "source": [
    "sss = []"
   ]
  },
  {
   "cell_type": "code",
   "execution_count": 370,
   "metadata": {},
   "outputs": [],
   "source": [
    "sss.append(p[1])"
   ]
  },
  {
   "cell_type": "code",
   "execution_count": 371,
   "metadata": {
    "scrolled": true
   },
   "outputs": [
    {
     "data": {
      "text/plain": [
       "[0.8952500224113464]"
      ]
     },
     "execution_count": 371,
     "metadata": {},
     "output_type": "execute_result"
    }
   ],
   "source": [
    "sss"
   ]
  },
  {
   "cell_type": "code",
   "execution_count": 377,
   "metadata": {},
   "outputs": [
    {
     "data": {
      "text/plain": [
       "89.53"
      ]
     },
     "execution_count": 377,
     "metadata": {},
     "output_type": "execute_result"
    }
   ],
   "source": [
    "round(p[1]*100,2)"
   ]
  },
  {
   "cell_type": "code",
   "execution_count": 363,
   "metadata": {},
   "outputs": [
    {
     "ename": "ValueError",
     "evalue": "Error when checking input: expected dense_231_input to have shape (125,) but got array with shape (129,)",
     "output_type": "error",
     "traceback": [
      "\u001b[1;31m---------------------------------------------------------------------------\u001b[0m",
      "\u001b[1;31mValueError\u001b[0m                                Traceback (most recent call last)",
      "\u001b[1;32m<ipython-input-363-0e8b4d505e95>\u001b[0m in \u001b[0;36m<module>\u001b[1;34m\u001b[0m\n\u001b[1;32m----> 1\u001b[1;33m \u001b[0mtest_y_predicted\u001b[0m \u001b[1;33m=\u001b[0m \u001b[0mmodel\u001b[0m\u001b[1;33m.\u001b[0m\u001b[0mpredict_classes\u001b[0m\u001b[1;33m(\u001b[0m\u001b[0mxt\u001b[0m\u001b[1;33m)\u001b[0m\u001b[1;33m\u001b[0m\u001b[1;33m\u001b[0m\u001b[0m\n\u001b[0m\u001b[0;32m      2\u001b[0m \u001b[0mp\u001b[0m \u001b[1;33m=\u001b[0m \u001b[0mmodel\u001b[0m\u001b[1;33m.\u001b[0m\u001b[0mevaluate\u001b[0m\u001b[1;33m(\u001b[0m\u001b[0mxt\u001b[0m\u001b[1;33m,\u001b[0m\u001b[0mdt\u001b[0m\u001b[1;33m[\u001b[0m\u001b[1;34m\"Y1\"\u001b[0m\u001b[1;33m]\u001b[0m\u001b[1;33m)\u001b[0m\u001b[1;33m\u001b[0m\u001b[1;33m\u001b[0m\u001b[0m\n",
      "\u001b[1;32mC:\\ProgramData\\Anaconda3\\lib\\site-packages\\keras\\engine\\sequential.py\u001b[0m in \u001b[0;36mpredict_classes\u001b[1;34m(self, x, batch_size, verbose)\u001b[0m\n\u001b[0;32m    266\u001b[0m             \u001b[0mA\u001b[0m \u001b[0mnumpy\u001b[0m \u001b[0marray\u001b[0m \u001b[0mof\u001b[0m \u001b[1;32mclass\u001b[0m \u001b[0mpredictions\u001b[0m\u001b[1;33m.\u001b[0m\u001b[1;33m\u001b[0m\u001b[1;33m\u001b[0m\u001b[0m\n\u001b[0;32m    267\u001b[0m         \"\"\"\n\u001b[1;32m--> 268\u001b[1;33m         \u001b[0mproba\u001b[0m \u001b[1;33m=\u001b[0m \u001b[0mself\u001b[0m\u001b[1;33m.\u001b[0m\u001b[0mpredict\u001b[0m\u001b[1;33m(\u001b[0m\u001b[0mx\u001b[0m\u001b[1;33m,\u001b[0m \u001b[0mbatch_size\u001b[0m\u001b[1;33m=\u001b[0m\u001b[0mbatch_size\u001b[0m\u001b[1;33m,\u001b[0m \u001b[0mverbose\u001b[0m\u001b[1;33m=\u001b[0m\u001b[0mverbose\u001b[0m\u001b[1;33m)\u001b[0m\u001b[1;33m\u001b[0m\u001b[1;33m\u001b[0m\u001b[0m\n\u001b[0m\u001b[0;32m    269\u001b[0m         \u001b[1;32mif\u001b[0m \u001b[0mproba\u001b[0m\u001b[1;33m.\u001b[0m\u001b[0mshape\u001b[0m\u001b[1;33m[\u001b[0m\u001b[1;33m-\u001b[0m\u001b[1;36m1\u001b[0m\u001b[1;33m]\u001b[0m \u001b[1;33m>\u001b[0m \u001b[1;36m1\u001b[0m\u001b[1;33m:\u001b[0m\u001b[1;33m\u001b[0m\u001b[1;33m\u001b[0m\u001b[0m\n\u001b[0;32m    270\u001b[0m             \u001b[1;32mreturn\u001b[0m \u001b[0mproba\u001b[0m\u001b[1;33m.\u001b[0m\u001b[0margmax\u001b[0m\u001b[1;33m(\u001b[0m\u001b[0maxis\u001b[0m\u001b[1;33m=\u001b[0m\u001b[1;33m-\u001b[0m\u001b[1;36m1\u001b[0m\u001b[1;33m)\u001b[0m\u001b[1;33m\u001b[0m\u001b[1;33m\u001b[0m\u001b[0m\n",
      "\u001b[1;32mC:\\ProgramData\\Anaconda3\\lib\\site-packages\\keras\\engine\\training.py\u001b[0m in \u001b[0;36mpredict\u001b[1;34m(self, x, batch_size, verbose, steps, callbacks, max_queue_size, workers, use_multiprocessing)\u001b[0m\n\u001b[0;32m   1439\u001b[0m \u001b[1;33m\u001b[0m\u001b[0m\n\u001b[0;32m   1440\u001b[0m         \u001b[1;31m# Case 2: Symbolic tensors or Numpy array-like.\u001b[0m\u001b[1;33m\u001b[0m\u001b[1;33m\u001b[0m\u001b[1;33m\u001b[0m\u001b[0m\n\u001b[1;32m-> 1441\u001b[1;33m         \u001b[0mx\u001b[0m\u001b[1;33m,\u001b[0m \u001b[0m_\u001b[0m\u001b[1;33m,\u001b[0m \u001b[0m_\u001b[0m \u001b[1;33m=\u001b[0m \u001b[0mself\u001b[0m\u001b[1;33m.\u001b[0m\u001b[0m_standardize_user_data\u001b[0m\u001b[1;33m(\u001b[0m\u001b[0mx\u001b[0m\u001b[1;33m)\u001b[0m\u001b[1;33m\u001b[0m\u001b[1;33m\u001b[0m\u001b[0m\n\u001b[0m\u001b[0;32m   1442\u001b[0m         \u001b[1;32mif\u001b[0m \u001b[0mself\u001b[0m\u001b[1;33m.\u001b[0m\u001b[0mstateful\u001b[0m\u001b[1;33m:\u001b[0m\u001b[1;33m\u001b[0m\u001b[1;33m\u001b[0m\u001b[0m\n\u001b[0;32m   1443\u001b[0m             \u001b[1;32mif\u001b[0m \u001b[0mx\u001b[0m\u001b[1;33m[\u001b[0m\u001b[1;36m0\u001b[0m\u001b[1;33m]\u001b[0m\u001b[1;33m.\u001b[0m\u001b[0mshape\u001b[0m\u001b[1;33m[\u001b[0m\u001b[1;36m0\u001b[0m\u001b[1;33m]\u001b[0m \u001b[1;33m>\u001b[0m \u001b[0mbatch_size\u001b[0m \u001b[1;32mand\u001b[0m \u001b[0mx\u001b[0m\u001b[1;33m[\u001b[0m\u001b[1;36m0\u001b[0m\u001b[1;33m]\u001b[0m\u001b[1;33m.\u001b[0m\u001b[0mshape\u001b[0m\u001b[1;33m[\u001b[0m\u001b[1;36m0\u001b[0m\u001b[1;33m]\u001b[0m \u001b[1;33m%\u001b[0m \u001b[0mbatch_size\u001b[0m \u001b[1;33m!=\u001b[0m \u001b[1;36m0\u001b[0m\u001b[1;33m:\u001b[0m\u001b[1;33m\u001b[0m\u001b[1;33m\u001b[0m\u001b[0m\n",
      "\u001b[1;32mC:\\ProgramData\\Anaconda3\\lib\\site-packages\\keras\\engine\\training.py\u001b[0m in \u001b[0;36m_standardize_user_data\u001b[1;34m(self, x, y, sample_weight, class_weight, check_array_lengths, batch_size)\u001b[0m\n\u001b[0;32m    577\u001b[0m             \u001b[0mfeed_input_shapes\u001b[0m\u001b[1;33m,\u001b[0m\u001b[1;33m\u001b[0m\u001b[1;33m\u001b[0m\u001b[0m\n\u001b[0;32m    578\u001b[0m             \u001b[0mcheck_batch_axis\u001b[0m\u001b[1;33m=\u001b[0m\u001b[1;32mFalse\u001b[0m\u001b[1;33m,\u001b[0m  \u001b[1;31m# Don't enforce the batch size.\u001b[0m\u001b[1;33m\u001b[0m\u001b[1;33m\u001b[0m\u001b[0m\n\u001b[1;32m--> 579\u001b[1;33m             exception_prefix='input')\n\u001b[0m\u001b[0;32m    580\u001b[0m \u001b[1;33m\u001b[0m\u001b[0m\n\u001b[0;32m    581\u001b[0m         \u001b[1;32mif\u001b[0m \u001b[0my\u001b[0m \u001b[1;32mis\u001b[0m \u001b[1;32mnot\u001b[0m \u001b[1;32mNone\u001b[0m\u001b[1;33m:\u001b[0m\u001b[1;33m\u001b[0m\u001b[1;33m\u001b[0m\u001b[0m\n",
      "\u001b[1;32mC:\\ProgramData\\Anaconda3\\lib\\site-packages\\keras\\engine\\training_utils.py\u001b[0m in \u001b[0;36mstandardize_input_data\u001b[1;34m(data, names, shapes, check_batch_axis, exception_prefix)\u001b[0m\n\u001b[0;32m    143\u001b[0m                             \u001b[1;34m': expected '\u001b[0m \u001b[1;33m+\u001b[0m \u001b[0mnames\u001b[0m\u001b[1;33m[\u001b[0m\u001b[0mi\u001b[0m\u001b[1;33m]\u001b[0m \u001b[1;33m+\u001b[0m \u001b[1;34m' to have shape '\u001b[0m \u001b[1;33m+\u001b[0m\u001b[1;33m\u001b[0m\u001b[1;33m\u001b[0m\u001b[0m\n\u001b[0;32m    144\u001b[0m                             \u001b[0mstr\u001b[0m\u001b[1;33m(\u001b[0m\u001b[0mshape\u001b[0m\u001b[1;33m)\u001b[0m \u001b[1;33m+\u001b[0m \u001b[1;34m' but got array with shape '\u001b[0m \u001b[1;33m+\u001b[0m\u001b[1;33m\u001b[0m\u001b[1;33m\u001b[0m\u001b[0m\n\u001b[1;32m--> 145\u001b[1;33m                             str(data_shape))\n\u001b[0m\u001b[0;32m    146\u001b[0m     \u001b[1;32mreturn\u001b[0m \u001b[0mdata\u001b[0m\u001b[1;33m\u001b[0m\u001b[1;33m\u001b[0m\u001b[0m\n\u001b[0;32m    147\u001b[0m \u001b[1;33m\u001b[0m\u001b[0m\n",
      "\u001b[1;31mValueError\u001b[0m: Error when checking input: expected dense_231_input to have shape (125,) but got array with shape (129,)"
     ]
    }
   ],
   "source": [
    "test_y_predicted = model.predict_classes(xt)\n",
    "p = model.evaluate(xt,dt[\"Y1\"])"
   ]
  },
  {
   "cell_type": "code",
   "execution_count": null,
   "metadata": {},
   "outputs": [],
   "source": []
  },
  {
   "cell_type": "markdown",
   "metadata": {},
   "source": [
    "# 預測"
   ]
  },
  {
   "cell_type": "code",
   "execution_count": 327,
   "metadata": {},
   "outputs": [
    {
     "name": "stderr",
     "output_type": "stream",
     "text": [
      "C:\\ProgramData\\Anaconda3\\lib\\site-packages\\IPython\\core\\interactiveshell.py:3057: DtypeWarning: Columns (17,21,22) have mixed types. Specify dtype option on import or set low_memory=False.\n",
      "  interactivity=interactivity, compiler=compiler, result=result)\n"
     ]
    }
   ],
   "source": [
    "df = pd.read_csv('../test.csv' , encoding='big5')"
   ]
  },
  {
   "cell_type": "code",
   "execution_count": 328,
   "metadata": {},
   "outputs": [
    {
     "data": {
      "text/plain": [
       "(150000, 124)"
      ]
     },
     "execution_count": 328,
     "metadata": {},
     "output_type": "execute_result"
    }
   ],
   "source": [
    "df = data_cl(df)\n",
    "df = df.drop(dropx,axis=1)\n",
    "df.shape"
   ]
  },
  {
   "cell_type": "code",
   "execution_count": 329,
   "metadata": {},
   "outputs": [],
   "source": [
    "test_y_predicted = model.predict_classes(df)"
   ]
  },
  {
   "cell_type": "code",
   "execution_count": 330,
   "metadata": {},
   "outputs": [
    {
     "data": {
      "text/plain": [
       "37867"
      ]
     },
     "execution_count": 330,
     "metadata": {},
     "output_type": "execute_result"
    }
   ],
   "source": [
    "test_y_predicted.sum()"
   ]
  },
  {
   "cell_type": "code",
   "execution_count": 331,
   "metadata": {},
   "outputs": [],
   "source": [
    "fin = pd.read_csv('../submit_test.csv' , encoding='big5')\n",
    "fin[\"Ypred\"] = test_y_predicted\n",
    "fin.to_csv('submit_test7665.csv')"
   ]
  },
  {
   "cell_type": "code",
   "execution_count": null,
   "metadata": {},
   "outputs": [],
   "source": []
  }
 ],
 "metadata": {
  "kernelspec": {
   "display_name": "Python 3",
   "language": "python",
   "name": "python3"
  },
  "language_info": {
   "codemirror_mode": {
    "name": "ipython",
    "version": 3
   },
   "file_extension": ".py",
   "mimetype": "text/x-python",
   "name": "python",
   "nbconvert_exporter": "python",
   "pygments_lexer": "ipython3",
   "version": "3.7.3"
  }
 },
 "nbformat": 4,
 "nbformat_minor": 2
}
