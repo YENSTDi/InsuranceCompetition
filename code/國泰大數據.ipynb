{
 "cells": [
  {
   "cell_type": "code",
   "execution_count": null,
   "metadata": {},
   "outputs": [],
   "source": [
    "!pip install -U scikit-learn"
   ]
  },
  {
   "cell_type": "code",
   "execution_count": 128,
   "metadata": {},
   "outputs": [],
   "source": [
    "import pandas as pd\n",
    "import numpy as np"
   ]
  },
  {
   "cell_type": "code",
   "execution_count": 129,
   "metadata": {},
   "outputs": [
    {
     "name": "stderr",
     "output_type": "stream",
     "text": [
      "C:\\ProgramData\\Anaconda3\\lib\\site-packages\\IPython\\core\\interactiveshell.py:3057: DtypeWarning: Columns (17,21,22) have mixed types. Specify dtype option on import or set low_memory=False.\n",
      "  interactivity=interactivity, compiler=compiler, result=result)\n"
     ]
    }
   ],
   "source": [
    "dt = pd.read_csv('../train.csv' , encoding='big5')"
   ]
  },
  {
   "cell_type": "code",
   "execution_count": 130,
   "metadata": {},
   "outputs": [],
   "source": [
    "from sklearn.preprocessing import LabelEncoder\n",
    "labelencoder = LabelEncoder()\n",
    "for i in dt.keys():    \n",
    "    for a in dt[i]:\n",
    "        if  a is not None and isinstance(a,str):\n",
    "            dt[i] = labelencoder.fit_transform(dt[i].astype(str))\n",
    "            break\n",
    "#         if(not(a.isnull())):            \n",
    "#             print(type(a))    "
   ]
  },
  {
   "cell_type": "code",
   "execution_count": 131,
   "metadata": {},
   "outputs": [],
   "source": [
    "from numpy import float32\n",
    "dt = dt.astype(float32)\n",
    "\n",
    "dt = dt.fillna(0)"
   ]
  },
  {
   "cell_type": "code",
   "execution_count": 132,
   "metadata": {},
   "outputs": [],
   "source": [
    "from sklearn import  ensemble, preprocessing, metrics\n",
    "# from sklearn.model_selection import cross_validation\n",
    "from sklearn.model_selection import train_test_split\n",
    "\n",
    "tran_y = dt['Y1']\n",
    "dt.drop(['CUS_ID','Y1'],axis=1,inplace=True)\n",
    "# tran_x = dt[['CUS_ID','GENDER','AGE','CHARGE_CITY_CD','CONTACT_CITY_CD']]\n",
    "# dt.drop(['CUS_ID','L1YR_C_CNT','A_IND','B_IND','C_IND','FINANCETOOLS_A','FINANCETOOLS_B','FINANCETOOLS_C','FINANCETOOLS_D','FINANCETOOLS_E','FINANCETOOLS_F','FINANCETOOLS_G'] ,axis=1,inplace=True)\n",
    "# dt.drop(['CUS_ID','EDUCATION_CD','APC_1ST_AGE','APC_1ST_YEARDIF','RFM_R','REBUY_TIMES_CNT','LEVEL','RFM_M_LEVEL','ANNUAL_PREMIUM_AMT','ANNUAL_INCOME_AMT','A_IND','B_IND','C_IND','L1YR_C_CNT','TERMINATION_RATE','DIEBENEFIT_AMT','DIEACCIDENT_AMT','POLICY_VALUE_AMT','ANNUITY_AMT','EXPIRATION_AMT','ACCIDENT_HOSPITAL_REC_AMT','DISEASES_HOSPITAL_REC_AMT','OUTPATIENT_SURGERY_AMT','INPATIENT_SURGERY_AMT','PAY_LIMIT_MED_MISC_AMT','FIRST_CANCER_AMT','ILL_ACCELERATION_AMT','ILL_ADDITIONAL_AMT','LONG_TERM_CARE_AMT','MONTHLY_CARE_AMT','IF_ISSUE_INSD_A_IND','IF_ISSUE_INSD_B_IND','IF_ISSUE_INSD_C_IND','IF_ISSUE_INSD_D_IND','IF_ISSUE_INSD_E_IND','IF_ISSUE_INSD_F_IND','IF_ISSUE_INSD_G_IND','IF_ISSUE_INSD_H_IND','IF_ISSUE_INSD_I_IND','IF_ISSUE_INSD_J_IND','IF_ISSUE_INSD_K_IND','IF_ISSUE_INSD_L_IND','IF_ISSUE_INSD_M_IND','IF_ISSUE_INSD_N_IND','IF_ISSUE_INSD_O_IND','IF_ISSUE_INSD_P_IND','IF_ISSUE_INSD_Q_IND','IF_ADD_INSD_F_IND','IF_ADD_INSD_L_IND','IF_ADD_INSD_Q_IND','IF_ADD_INSD_G_IND','IF_ADD_INSD_R_IND','FINANCETOOLS_A','FINANCETOOLS_B','FINANCETOOLS_C','FINANCETOOLS_D','FINANCETOOLS_E','FINANCETOOLS_F','FINANCETOOLS_G'],axis =1 , inplace=True)\n",
    "tran_x = dt[dt.keys()[:35]] #50.48%\n",
    "tran_x = dt[dt.keys()[:30]] #50.48%\n",
    "tran_x = dt #50.24%\n",
    "\n",
    "train_X, test_X, train_y, test_y = train_test_split(tran_x, tran_y, test_size = 0.33 ,  random_state=42)\n",
    "\n",
    "forest = ensemble.RandomForestClassifier(n_estimators = 100)\n",
    "forest_fit = forest.fit(train_X, train_y)\n"
   ]
  },
  {
   "cell_type": "code",
   "execution_count": 133,
   "metadata": {},
   "outputs": [
    {
     "name": "stdout",
     "output_type": "stream",
     "text": [
      "0.504485336996554\n"
     ]
    }
   ],
   "source": [
    "test_y_predicted = forest.predict(test_X)\n",
    "\n",
    "# 績效\n",
    "fpr, tpr, thresholds = metrics.roc_curve(test_y, test_y_predicted)\n",
    "auc = metrics.auc(fpr, tpr)\n",
    "print(auc)"
   ]
  },
  {
   "cell_type": "code",
   "execution_count": null,
   "metadata": {},
   "outputs": [],
   "source": []
  },
  {
   "cell_type": "code",
   "execution_count": null,
   "metadata": {},
   "outputs": [],
   "source": []
  }
 ],
 "metadata": {
  "kernelspec": {
   "display_name": "Python 3",
   "language": "python",
   "name": "python3"
  },
  "language_info": {
   "codemirror_mode": {
    "name": "ipython",
    "version": 3
   },
   "file_extension": ".py",
   "mimetype": "text/x-python",
   "name": "python",
   "nbconvert_exporter": "python",
   "pygments_lexer": "ipython3",
   "version": "3.7.3"
  }
 },
 "nbformat": 4,
 "nbformat_minor": 2
}
