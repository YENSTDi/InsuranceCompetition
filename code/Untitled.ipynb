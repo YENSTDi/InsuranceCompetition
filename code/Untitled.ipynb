{
 "cells": [
  {
   "cell_type": "code",
   "execution_count": 2,
   "metadata": {},
   "outputs": [
    {
     "name": "stdout",
     "output_type": "stream",
     "text": [
      "Collecting keras\n",
      "  Downloading https://files.pythonhosted.org/packages/1b/18/2e1ef121e5560ac24c7ac9e363aa5fa7006c40563c989e7211aba95b793a/Keras-2.3.0-py2.py3-none-any.whl (377kB)\n",
      "Requirement already satisfied: six>=1.9.0 in c:\\programdata\\anaconda3\\lib\\site-packages (from keras) (1.12.0)\n",
      "Requirement already satisfied: pyyaml in c:\\programdata\\anaconda3\\lib\\site-packages (from keras) (5.1.1)\n",
      "Requirement already satisfied: scipy>=0.14 in c:\\programdata\\anaconda3\\lib\\site-packages (from keras) (1.2.1)\n",
      "Requirement already satisfied: keras-preprocessing>=1.0.5 in c:\\programdata\\anaconda3\\lib\\site-packages (from keras) (1.1.0)\n",
      "Requirement already satisfied: keras-applications>=1.0.6 in c:\\programdata\\anaconda3\\lib\\site-packages (from keras) (1.0.8)\n",
      "Requirement already satisfied: numpy>=1.9.1 in c:\\programdata\\anaconda3\\lib\\site-packages (from keras) (1.16.4)\n",
      "Requirement already satisfied: h5py in c:\\programdata\\anaconda3\\lib\\site-packages (from keras) (2.9.0)\n",
      "Installing collected packages: keras\n",
      "Successfully installed keras-2.3.0\n"
     ]
    }
   ],
   "source": [
    "!pip install keras"
   ]
  },
  {
   "cell_type": "code",
   "execution_count": 5,
   "metadata": {},
   "outputs": [],
   "source": [
    "import keras\n",
    "from keras import backend as K\n",
    "from keras.models import Sequential\n",
    "from keras.layers import Activation\n",
    "from keras.layers.core import Dense\n",
    "from keras.optimizers import Adam\n",
    "from keras.metrics import categorical_crossentropy"
   ]
  },
  {
   "cell_type": "code",
   "execution_count": 25,
   "metadata": {},
   "outputs": [
    {
     "name": "stderr",
     "output_type": "stream",
     "text": [
      "C:\\ProgramData\\Anaconda3\\lib\\site-packages\\IPython\\core\\interactiveshell.py:3057: DtypeWarning: Columns (17,21,22) have mixed types. Specify dtype option on import or set low_memory=False.\n",
      "  interactivity=interactivity, compiler=compiler, result=result)\n"
     ]
    }
   ],
   "source": [
    "import pandas as pd\n",
    "import numpy as np\n",
    "dt = pd.read_csv('../train.csv' , encoding='big5')"
   ]
  },
  {
   "cell_type": "code",
   "execution_count": 26,
   "metadata": {},
   "outputs": [],
   "source": [
    "dt = dt.drop(\"CUS_ID\" ,axis=1)\n",
    "\n",
    "ohi = pd.get_dummies(dt[\"GENDER\"])\n",
    "ohi\n",
    "dt = dt.drop(\"GENDER\",axis=1)\n",
    "dt = pd.concat([ohi,dt],axis=1)\n",
    "\n",
    "sizemap = {\n",
    "    \"低\":1,\n",
    "    \"中\":2,\n",
    "    \"中高\":3,\n",
    "    \"高\":4\n",
    "}\n",
    "\n",
    "dt[\"AGE\"] = dt[\"AGE\"].map(sizemap)\n",
    "\n",
    "from sklearn.preprocessing import LabelEncoder\n",
    "labelencoder = LabelEncoder()\n",
    "for i in dt.keys():    \n",
    "    for a in dt[i]:\n",
    "        if  a is not None and isinstance(a,str):\n",
    "            dt[i] = labelencoder.fit_transform(dt[i].astype(str))\n",
    "            break\n",
    "            \n",
    "for i in dt.keys():\n",
    "    dt[i] = dt[i].fillna(dt[i].mean())"
   ]
  },
  {
   "cell_type": "code",
   "execution_count": 27,
   "metadata": {},
   "outputs": [
    {
     "data": {
      "text/plain": [
       "(4000, 132)"
      ]
     },
     "execution_count": 27,
     "metadata": {},
     "output_type": "execute_result"
    }
   ],
   "source": [
    "dt = dt.sample(frac = 1)\n",
    "\n",
    "fraud_dt = dt.loc[dt['Y1'] == 1]\n",
    "non_fraud_dt = dt.loc[dt['Y1'] == 0][:2000]\n",
    "\n",
    "normal_distributed_dt = pd.concat([fraud_dt, non_fraud_dt])\n",
    "\n",
    "new_dt = normal_distributed_dt.sample(frac=1, random_state=3)\n",
    "\n",
    "new_dt.shape"
   ]
  },
  {
   "cell_type": "code",
   "execution_count": 34,
   "metadata": {},
   "outputs": [
    {
     "data": {
      "text/html": [
       "<div>\n",
       "<style scoped>\n",
       "    .dataframe tbody tr th:only-of-type {\n",
       "        vertical-align: middle;\n",
       "    }\n",
       "\n",
       "    .dataframe tbody tr th {\n",
       "        vertical-align: top;\n",
       "    }\n",
       "\n",
       "    .dataframe thead th {\n",
       "        text-align: right;\n",
       "    }\n",
       "</style>\n",
       "<table border=\"1\" class=\"dataframe\">\n",
       "  <thead>\n",
       "    <tr style=\"text-align: right;\">\n",
       "      <th></th>\n",
       "      <th>F</th>\n",
       "      <th>M</th>\n",
       "      <th>AGE</th>\n",
       "      <th>CHARGE_CITY_CD</th>\n",
       "      <th>CONTACT_CITY_CD</th>\n",
       "      <th>EDUCATION_CD</th>\n",
       "      <th>MARRIAGE_CD</th>\n",
       "      <th>LAST_A_CCONTACT_DT</th>\n",
       "      <th>L1YR_A_ISSUE_CNT</th>\n",
       "      <th>LAST_A_ISSUE_DT</th>\n",
       "      <th>...</th>\n",
       "      <th>L1YR_GROSS_PRE_AMT</th>\n",
       "      <th>CUST_9_SEGMENTS_CD</th>\n",
       "      <th>FINANCETOOLS_A</th>\n",
       "      <th>FINANCETOOLS_B</th>\n",
       "      <th>FINANCETOOLS_C</th>\n",
       "      <th>FINANCETOOLS_D</th>\n",
       "      <th>FINANCETOOLS_E</th>\n",
       "      <th>FINANCETOOLS_F</th>\n",
       "      <th>FINANCETOOLS_G</th>\n",
       "      <th>Y1</th>\n",
       "    </tr>\n",
       "  </thead>\n",
       "  <tbody>\n",
       "    <tr>\n",
       "      <th>25215</th>\n",
       "      <td>0</td>\n",
       "      <td>1</td>\n",
       "      <td>1</td>\n",
       "      <td>2</td>\n",
       "      <td>2</td>\n",
       "      <td>1.000000</td>\n",
       "      <td>0.000000</td>\n",
       "      <td>0</td>\n",
       "      <td>0</td>\n",
       "      <td>0</td>\n",
       "      <td>...</td>\n",
       "      <td>0.00000</td>\n",
       "      <td>2</td>\n",
       "      <td>2</td>\n",
       "      <td>2</td>\n",
       "      <td>2</td>\n",
       "      <td>2</td>\n",
       "      <td>2</td>\n",
       "      <td>2</td>\n",
       "      <td>2</td>\n",
       "      <td>0</td>\n",
       "    </tr>\n",
       "    <tr>\n",
       "      <th>48615</th>\n",
       "      <td>1</td>\n",
       "      <td>0</td>\n",
       "      <td>2</td>\n",
       "      <td>2</td>\n",
       "      <td>2</td>\n",
       "      <td>2.169075</td>\n",
       "      <td>0.315289</td>\n",
       "      <td>0</td>\n",
       "      <td>0</td>\n",
       "      <td>0</td>\n",
       "      <td>...</td>\n",
       "      <td>0.00000</td>\n",
       "      <td>5</td>\n",
       "      <td>2</td>\n",
       "      <td>2</td>\n",
       "      <td>2</td>\n",
       "      <td>2</td>\n",
       "      <td>2</td>\n",
       "      <td>2</td>\n",
       "      <td>2</td>\n",
       "      <td>1</td>\n",
       "    </tr>\n",
       "    <tr>\n",
       "      <th>40559</th>\n",
       "      <td>1</td>\n",
       "      <td>0</td>\n",
       "      <td>1</td>\n",
       "      <td>2</td>\n",
       "      <td>3</td>\n",
       "      <td>2.000000</td>\n",
       "      <td>0.000000</td>\n",
       "      <td>0</td>\n",
       "      <td>0</td>\n",
       "      <td>0</td>\n",
       "      <td>...</td>\n",
       "      <td>0.00000</td>\n",
       "      <td>2</td>\n",
       "      <td>1</td>\n",
       "      <td>0</td>\n",
       "      <td>0</td>\n",
       "      <td>0</td>\n",
       "      <td>0</td>\n",
       "      <td>0</td>\n",
       "      <td>0</td>\n",
       "      <td>0</td>\n",
       "    </tr>\n",
       "    <tr>\n",
       "      <th>85893</th>\n",
       "      <td>0</td>\n",
       "      <td>1</td>\n",
       "      <td>3</td>\n",
       "      <td>0</td>\n",
       "      <td>0</td>\n",
       "      <td>3.000000</td>\n",
       "      <td>0.000000</td>\n",
       "      <td>1</td>\n",
       "      <td>0</td>\n",
       "      <td>0</td>\n",
       "      <td>...</td>\n",
       "      <td>0.00213</td>\n",
       "      <td>4</td>\n",
       "      <td>2</td>\n",
       "      <td>2</td>\n",
       "      <td>2</td>\n",
       "      <td>2</td>\n",
       "      <td>2</td>\n",
       "      <td>2</td>\n",
       "      <td>2</td>\n",
       "      <td>0</td>\n",
       "    </tr>\n",
       "    <tr>\n",
       "      <th>56030</th>\n",
       "      <td>1</td>\n",
       "      <td>0</td>\n",
       "      <td>1</td>\n",
       "      <td>2</td>\n",
       "      <td>3</td>\n",
       "      <td>2.000000</td>\n",
       "      <td>0.000000</td>\n",
       "      <td>0</td>\n",
       "      <td>0</td>\n",
       "      <td>0</td>\n",
       "      <td>...</td>\n",
       "      <td>0.00000</td>\n",
       "      <td>2</td>\n",
       "      <td>2</td>\n",
       "      <td>2</td>\n",
       "      <td>2</td>\n",
       "      <td>2</td>\n",
       "      <td>2</td>\n",
       "      <td>2</td>\n",
       "      <td>2</td>\n",
       "      <td>0</td>\n",
       "    </tr>\n",
       "  </tbody>\n",
       "</table>\n",
       "<p>5 rows × 132 columns</p>\n",
       "</div>"
      ],
      "text/plain": [
       "       F  M  AGE  CHARGE_CITY_CD  CONTACT_CITY_CD  EDUCATION_CD  MARRIAGE_CD  \\\n",
       "25215  0  1    1               2                2      1.000000     0.000000   \n",
       "48615  1  0    2               2                2      2.169075     0.315289   \n",
       "40559  1  0    1               2                3      2.000000     0.000000   \n",
       "85893  0  1    3               0                0      3.000000     0.000000   \n",
       "56030  1  0    1               2                3      2.000000     0.000000   \n",
       "\n",
       "       LAST_A_CCONTACT_DT  L1YR_A_ISSUE_CNT  LAST_A_ISSUE_DT  ...  \\\n",
       "25215                   0                 0                0  ...   \n",
       "48615                   0                 0                0  ...   \n",
       "40559                   0                 0                0  ...   \n",
       "85893                   1                 0                0  ...   \n",
       "56030                   0                 0                0  ...   \n",
       "\n",
       "       L1YR_GROSS_PRE_AMT  CUST_9_SEGMENTS_CD  FINANCETOOLS_A  FINANCETOOLS_B  \\\n",
       "25215             0.00000                   2               2               2   \n",
       "48615             0.00000                   5               2               2   \n",
       "40559             0.00000                   2               1               0   \n",
       "85893             0.00213                   4               2               2   \n",
       "56030             0.00000                   2               2               2   \n",
       "\n",
       "       FINANCETOOLS_C  FINANCETOOLS_D  FINANCETOOLS_E  FINANCETOOLS_F  \\\n",
       "25215               2               2               2               2   \n",
       "48615               2               2               2               2   \n",
       "40559               0               0               0               0   \n",
       "85893               2               2               2               2   \n",
       "56030               2               2               2               2   \n",
       "\n",
       "       FINANCETOOLS_G  Y1  \n",
       "25215               2   0  \n",
       "48615               2   1  \n",
       "40559               0   0  \n",
       "85893               2   0  \n",
       "56030               2   0  \n",
       "\n",
       "[5 rows x 132 columns]"
      ]
     },
     "execution_count": 34,
     "metadata": {},
     "output_type": "execute_result"
    }
   ],
   "source": [
    "dt.head()"
   ]
  },
  {
   "cell_type": "code",
   "execution_count": 28,
   "metadata": {},
   "outputs": [],
   "source": [
    "X = new_dt.drop(\"Y1\",axis=1)\n",
    "y = new_dt['Y1']"
   ]
  },
  {
   "cell_type": "code",
   "execution_count": 29,
   "metadata": {},
   "outputs": [],
   "source": [
    "# Our data is already scaled we should split our training and test sets\n",
    "from sklearn.model_selection import train_test_split\n",
    "\n",
    "# This is explicitly used for undersampling.\n",
    "X_train, X_test, y_train, y_test = train_test_split(X, y, test_size=0.3, random_state=42)"
   ]
  },
  {
   "cell_type": "code",
   "execution_count": 30,
   "metadata": {},
   "outputs": [],
   "source": [
    "n_inputs = X_train.shape[1]\n",
    "\n",
    "undersample_model = Sequential([\n",
    "    Dense(n_inputs, input_shape=(n_inputs, ), activation='relu'),\n",
    "    Dense(32, activation='relu'),\n",
    "    Dense(2, activation='softmax')\n",
    "])"
   ]
  },
  {
   "cell_type": "code",
   "execution_count": 31,
   "metadata": {},
   "outputs": [
    {
     "name": "stdout",
     "output_type": "stream",
     "text": [
      "Model: \"sequential_2\"\n",
      "_________________________________________________________________\n",
      "Layer (type)                 Output Shape              Param #   \n",
      "=================================================================\n",
      "dense_4 (Dense)              (None, 131)               17292     \n",
      "_________________________________________________________________\n",
      "dense_5 (Dense)              (None, 32)                4224      \n",
      "_________________________________________________________________\n",
      "dense_6 (Dense)              (None, 2)                 66        \n",
      "=================================================================\n",
      "Total params: 21,582\n",
      "Trainable params: 21,582\n",
      "Non-trainable params: 0\n",
      "_________________________________________________________________\n"
     ]
    }
   ],
   "source": [
    "undersample_model.summary()"
   ]
  },
  {
   "cell_type": "code",
   "execution_count": 32,
   "metadata": {},
   "outputs": [],
   "source": [
    "undersample_model.compile(Adam(lr=0.001), loss='sparse_categorical_crossentropy', metrics=['accuracy'])"
   ]
  },
  {
   "cell_type": "code",
   "execution_count": 35,
   "metadata": {},
   "outputs": [],
   "source": [
    "x1 = dt.drop(\"Y1\",axis=1)\n",
    "y1 = dt[\"Y1\"]"
   ]
  },
  {
   "cell_type": "code",
   "execution_count": 41,
   "metadata": {},
   "outputs": [
    {
     "name": "stdout",
     "output_type": "stream",
     "text": [
      "Train on 70000 samples, validate on 30000 samples\n",
      "Epoch 1/20\n",
      " - 4s - loss: 0.0718 - accuracy: 0.9805 - val_loss: 0.0954 - val_accuracy: 0.9770\n",
      "Epoch 2/20\n",
      " - 4s - loss: 0.0707 - accuracy: 0.9808 - val_loss: 0.0979 - val_accuracy: 0.9794\n",
      "Epoch 3/20\n",
      " - 4s - loss: 0.0700 - accuracy: 0.9809 - val_loss: 0.0948 - val_accuracy: 0.9791\n",
      "Epoch 4/20\n",
      " - 4s - loss: 0.0694 - accuracy: 0.9810 - val_loss: 0.1037 - val_accuracy: 0.9795\n",
      "Epoch 5/20\n",
      " - 4s - loss: 0.0690 - accuracy: 0.9808 - val_loss: 0.1060 - val_accuracy: 0.9797\n",
      "Epoch 6/20\n",
      " - 4s - loss: 0.0681 - accuracy: 0.9813 - val_loss: 0.0999 - val_accuracy: 0.9788\n",
      "Epoch 7/20\n",
      " - 4s - loss: 0.0676 - accuracy: 0.9813 - val_loss: 0.0997 - val_accuracy: 0.9782\n",
      "Epoch 8/20\n",
      " - 4s - loss: 0.0669 - accuracy: 0.9813 - val_loss: 0.1008 - val_accuracy: 0.9793\n",
      "Epoch 9/20\n",
      " - 4s - loss: 0.0658 - accuracy: 0.9816 - val_loss: 0.1038 - val_accuracy: 0.9789\n",
      "Epoch 10/20\n",
      " - 4s - loss: 0.0654 - accuracy: 0.9816 - val_loss: 0.1040 - val_accuracy: 0.9769\n",
      "Epoch 11/20\n",
      " - 4s - loss: 0.0637 - accuracy: 0.9821 - val_loss: 0.1064 - val_accuracy: 0.9769\n",
      "Epoch 12/20\n",
      " - 4s - loss: 0.0633 - accuracy: 0.9820 - val_loss: 0.1010 - val_accuracy: 0.9792\n",
      "Epoch 13/20\n",
      " - 4s - loss: 0.0628 - accuracy: 0.9821 - val_loss: 0.1081 - val_accuracy: 0.9769\n",
      "Epoch 14/20\n",
      " - 4s - loss: 0.0624 - accuracy: 0.9821 - val_loss: 0.1125 - val_accuracy: 0.9787\n",
      "Epoch 15/20\n",
      " - 4s - loss: 0.0617 - accuracy: 0.9824 - val_loss: 0.1099 - val_accuracy: 0.9779\n",
      "Epoch 16/20\n",
      " - 4s - loss: 0.0607 - accuracy: 0.9825 - val_loss: 0.1202 - val_accuracy: 0.9785\n",
      "Epoch 17/20\n",
      " - 4s - loss: 0.0606 - accuracy: 0.9826 - val_loss: 0.1135 - val_accuracy: 0.9765\n",
      "Epoch 18/20\n",
      " - 4s - loss: 0.0597 - accuracy: 0.9829 - val_loss: 0.1187 - val_accuracy: 0.9770\n",
      "Epoch 19/20\n",
      " - 4s - loss: 0.0587 - accuracy: 0.9831 - val_loss: 0.1184 - val_accuracy: 0.9765\n",
      "Epoch 20/20\n",
      " - 4s - loss: 0.0585 - accuracy: 0.9828 - val_loss: 0.1217 - val_accuracy: 0.9777\n"
     ]
    },
    {
     "data": {
      "text/plain": [
       "<keras.callbacks.callbacks.History at 0x1efe60949e8>"
      ]
     },
     "execution_count": 41,
     "metadata": {},
     "output_type": "execute_result"
    }
   ],
   "source": [
    "undersample_model.fit(x1,y1, validation_split=0.3, batch_size=20, epochs=20, shuffle=True, verbose=2)"
   ]
  },
  {
   "cell_type": "code",
   "execution_count": 39,
   "metadata": {},
   "outputs": [
    {
     "ename": "AttributeError",
     "evalue": "'Sequential' object has no attribute 'val'",
     "output_type": "error",
     "traceback": [
      "\u001b[1;31m---------------------------------------------------------------------------\u001b[0m",
      "\u001b[1;31mAttributeError\u001b[0m                            Traceback (most recent call last)",
      "\u001b[1;32m<ipython-input-39-eaca7fa68e39>\u001b[0m in \u001b[0;36m<module>\u001b[1;34m\u001b[0m\n\u001b[1;32m----> 1\u001b[1;33m \u001b[0mundersample_model\u001b[0m\u001b[1;33m.\u001b[0m\u001b[0mval\u001b[0m\u001b[1;33m\u001b[0m\u001b[1;33m\u001b[0m\u001b[0m\n\u001b[0m",
      "\u001b[1;31mAttributeError\u001b[0m: 'Sequential' object has no attribute 'val'"
     ]
    }
   ],
   "source": [
    "\n",
    "undersample_model.val"
   ]
  },
  {
   "cell_type": "code",
   "execution_count": 16,
   "metadata": {},
   "outputs": [
    {
     "ename": "SyntaxError",
     "evalue": "invalid character in identifier (<ipython-input-16-5338fcbf4cc4>, line 9)",
     "output_type": "error",
     "traceback": [
      "\u001b[1;36m  File \u001b[1;32m\"<ipython-input-16-5338fcbf4cc4>\"\u001b[1;36m, line \u001b[1;32m9\u001b[0m\n\u001b[1;33m    \u001b[0m\n\u001b[1;37m    ^\u001b[0m\n\u001b[1;31mSyntaxError\u001b[0m\u001b[1;31m:\u001b[0m invalid character in identifier\n"
     ]
    }
   ],
   "source": [
    "import pandas as pd\n",
    "from sklearn import ensemble, preprocessing, metrics\n",
    "from sklearn.model_selection import train_test_split\n",
    "\n",
    "new_dtf = pd.read_csv('../train.csv' , encoding='big5')\n",
    "xf = new_dtf.drop(\"Y1\",axis=1)\n",
    "yf = new_dtf[\"Y1\"]\n",
    "train_x, test_x, train_y, test_y = train_test_split(xf, yf, test_size = 0.3)\n",
    " \n",
    "forest = ensemble.RandomForestClassifier(n_estimators = 131)\n",
    "forest_fit = forest.fit(train_x, train_y)\n",
    "\n",
    "test_y_predicted = forest.predict(test_x)\n",
    " \n",
    "fpr, tpr, thresholds = metrics.roc_curve(test_y, test_y_predicted)\n",
    "auc = metrics.auc(fpr, tpr)\n",
    "print(auc)\n"
   ]
  },
  {
   "cell_type": "code",
   "execution_count": null,
   "metadata": {},
   "outputs": [],
   "source": []
  },
  {
   "cell_type": "code",
   "execution_count": 14,
   "metadata": {},
   "outputs": [
    {
     "ename": "SyntaxError",
     "evalue": "invalid character in identifier (<ipython-input-14-bcaa31d44e43>, line 5)",
     "output_type": "error",
     "traceback": [
      "\u001b[1;36m  File \u001b[1;32m\"<ipython-input-14-bcaa31d44e43>\"\u001b[1;36m, line \u001b[1;32m5\u001b[0m\n\u001b[1;33m    \u001b[0m\n\u001b[1;37m    ^\u001b[0m\n\u001b[1;31mSyntaxError\u001b[0m\u001b[1;31m:\u001b[0m invalid character in identifier\n"
     ]
    }
   ],
   "source": [
    " \n",
    "# forest = ensemble.RandomForestClassifier(n_estimators = 131)\n",
    "# forest_fit = forest.fit(train_x, train_y)\n",
    "\n",
    "# test_y_predicted = forest.predict(test_x)\n",
    " \n",
    "# fpr, tpr, thresholds = metrics.roc_curve(test_y, test_y_predicted)\n",
    "# auc = metrics.auc(fpr, tpr)\n",
    "# print(auc)"
   ]
  },
  {
   "cell_type": "code",
   "execution_count": 15,
   "metadata": {},
   "outputs": [
    {
     "ename": "SyntaxError",
     "evalue": "invalid character in identifier (<ipython-input-15-bcaa31d44e43>, line 5)",
     "output_type": "error",
     "traceback": [
      "\u001b[1;36m  File \u001b[1;32m\"<ipython-input-15-bcaa31d44e43>\"\u001b[1;36m, line \u001b[1;32m5\u001b[0m\n\u001b[1;33m    \u001b[0m\n\u001b[1;37m    ^\u001b[0m\n\u001b[1;31mSyntaxError\u001b[0m\u001b[1;31m:\u001b[0m invalid character in identifier\n"
     ]
    }
   ],
   "source": []
  },
  {
   "cell_type": "code",
   "execution_count": null,
   "metadata": {},
   "outputs": [],
   "source": []
  },
  {
   "cell_type": "code",
   "execution_count": null,
   "metadata": {},
   "outputs": [],
   "source": []
  }
 ],
 "metadata": {
  "kernelspec": {
   "display_name": "Python 3",
   "language": "python",
   "name": "python3"
  },
  "language_info": {
   "codemirror_mode": {
    "name": "ipython",
    "version": 3
   },
   "file_extension": ".py",
   "mimetype": "text/x-python",
   "name": "python",
   "nbconvert_exporter": "python",
   "pygments_lexer": "ipython3",
   "version": "3.7.3"
  }
 },
 "nbformat": 4,
 "nbformat_minor": 2
}
