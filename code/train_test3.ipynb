{
 "cells": [
  {
   "cell_type": "code",
   "execution_count": 1,
   "metadata": {
    "scrolled": true
   },
   "outputs": [
    {
     "name": "stdout",
     "output_type": "stream",
     "text": [
      "Requirement already satisfied: tensorflow in c:\\programdata\\anaconda3\\lib\\site-packages (1.14.0)\n",
      "Requirement already satisfied: google-pasta>=0.1.6 in c:\\programdata\\anaconda3\\lib\\site-packages (from tensorflow) (0.1.7)\n",
      "Requirement already satisfied: keras-preprocessing>=1.0.5 in c:\\programdata\\anaconda3\\lib\\site-packages (from tensorflow) (1.1.0)\n",
      "Requirement already satisfied: gast>=0.2.0 in c:\\programdata\\anaconda3\\lib\\site-packages (from tensorflow) (0.3.2)\n",
      "Requirement already satisfied: tensorboard<1.15.0,>=1.14.0 in c:\\programdata\\anaconda3\\lib\\site-packages (from tensorflow) (1.14.0)\n",
      "Requirement already satisfied: termcolor>=1.1.0 in c:\\programdata\\anaconda3\\lib\\site-packages (from tensorflow) (1.1.0)\n",
      "Requirement already satisfied: grpcio>=1.8.6 in c:\\programdata\\anaconda3\\lib\\site-packages (from tensorflow) (1.23.0)\n",
      "Requirement already satisfied: protobuf>=3.6.1 in c:\\programdata\\anaconda3\\lib\\site-packages (from tensorflow) (3.9.1)\n",
      "Requirement already satisfied: wrapt>=1.11.1 in c:\\programdata\\anaconda3\\lib\\site-packages (from tensorflow) (1.11.2)\n",
      "Requirement already satisfied: numpy<2.0,>=1.14.5 in c:\\programdata\\anaconda3\\lib\\site-packages (from tensorflow) (1.16.4)\n",
      "Requirement already satisfied: six>=1.10.0 in c:\\programdata\\anaconda3\\lib\\site-packages (from tensorflow) (1.12.0)\n",
      "Requirement already satisfied: absl-py>=0.7.0 in c:\\programdata\\anaconda3\\lib\\site-packages (from tensorflow) (0.8.0)\n",
      "Requirement already satisfied: wheel>=0.26 in c:\\programdata\\anaconda3\\lib\\site-packages (from tensorflow) (0.33.4)\n",
      "Requirement already satisfied: tensorflow-estimator<1.15.0rc0,>=1.14.0rc0 in c:\\programdata\\anaconda3\\lib\\site-packages (from tensorflow) (1.14.0)\n",
      "Requirement already satisfied: astor>=0.6.0 in c:\\programdata\\anaconda3\\lib\\site-packages (from tensorflow) (0.8.0)\n",
      "Requirement already satisfied: keras-applications>=1.0.6 in c:\\programdata\\anaconda3\\lib\\site-packages (from tensorflow) (1.0.8)\n",
      "Requirement already satisfied: setuptools>=41.0.0 in c:\\programdata\\anaconda3\\lib\\site-packages (from tensorboard<1.15.0,>=1.14.0->tensorflow) (41.0.1)\n",
      "Requirement already satisfied: werkzeug>=0.11.15 in c:\\programdata\\anaconda3\\lib\\site-packages (from tensorboard<1.15.0,>=1.14.0->tensorflow) (0.15.4)\n",
      "Requirement already satisfied: markdown>=2.6.8 in c:\\programdata\\anaconda3\\lib\\site-packages (from tensorboard<1.15.0,>=1.14.0->tensorflow) (3.1.1)\n",
      "Requirement already satisfied: h5py in c:\\programdata\\anaconda3\\lib\\site-packages (from keras-applications>=1.0.6->tensorflow) (2.9.0)\n",
      "Requirement already up-to-date: imbalanced-learn in c:\\programdata\\anaconda3\\lib\\site-packages (0.5.0)\n",
      "Requirement already satisfied, skipping upgrade: scikit-learn>=0.21 in c:\\programdata\\anaconda3\\lib\\site-packages (from imbalanced-learn) (0.21.3)\n",
      "Requirement already satisfied, skipping upgrade: numpy>=1.11 in c:\\programdata\\anaconda3\\lib\\site-packages (from imbalanced-learn) (1.16.4)\n",
      "Requirement already satisfied, skipping upgrade: joblib>=0.11 in c:\\programdata\\anaconda3\\lib\\site-packages (from imbalanced-learn) (0.13.2)\n",
      "Requirement already satisfied, skipping upgrade: scipy>=0.17 in c:\\programdata\\anaconda3\\lib\\site-packages (from imbalanced-learn) (1.2.1)\n"
     ]
    }
   ],
   "source": [
    "!pip install tensorflow\n",
    "!pip install -U imbalanced-learn"
   ]
  },
  {
   "cell_type": "code",
   "execution_count": 15,
   "metadata": {},
   "outputs": [],
   "source": [
    "import numpy as np # linear algebra\n",
    "import pandas as pd # data processing, CSV file I/O (e.g. pd.read_csv)\n",
    "import tensorflow as tf\n",
    "import matplotlib.pyplot as plt\n",
    "import seaborn as sns\n",
    "from sklearn.manifold import TSNE\n",
    "from sklearn.decomposition import PCA, TruncatedSVD\n",
    "import matplotlib.patches as mpatches\n",
    "import time\n",
    "\n",
    "# Classifier Libraries\n",
    "from sklearn.linear_model import LogisticRegression\n",
    "from sklearn.svm import SVC\n",
    "from sklearn.neighbors import KNeighborsClassifier\n",
    "from sklearn.tree import DecisionTreeClassifier\n",
    "from sklearn.ensemble import RandomForestClassifier\n",
    "import collections\n",
    "\n",
    "\n",
    "# Other Libraries\n",
    "from sklearn.model_selection import train_test_split\n",
    "from sklearn.pipeline import make_pipeline\n",
    "from imblearn.pipeline import make_pipeline as imbalanced_make_pipeline\n",
    "from imblearn.over_sampling import SMOTE\n",
    "from imblearn.under_sampling import NearMiss\n",
    "from imblearn.metrics import classification_report_imbalanced\n",
    "from sklearn.metrics import precision_score, recall_score, f1_score, roc_auc_score, accuracy_score, classification_report\n",
    "from collections import Counter\n",
    "from sklearn.model_selection import KFold, StratifiedKFold\n",
    "import warnings"
   ]
  },
  {
   "cell_type": "code",
   "execution_count": 16,
   "metadata": {},
   "outputs": [],
   "source": [
    "import pandas as pd\n",
    "import numpy as np\n",
    "from sklearn.preprocessing import StandardScaler, RobustScaler\n",
    "\n",
    "from sklearn.preprocessing import LabelEncoder"
   ]
  },
  {
   "cell_type": "code",
   "execution_count": 17,
   "metadata": {},
   "outputs": [
    {
     "name": "stderr",
     "output_type": "stream",
     "text": [
      "C:\\ProgramData\\Anaconda3\\lib\\site-packages\\IPython\\core\\interactiveshell.py:3057: DtypeWarning: Columns (17,21,22) have mixed types. Specify dtype option on import or set low_memory=False.\n",
      "  interactivity=interactivity, compiler=compiler, result=result)\n"
     ]
    }
   ],
   "source": [
    "dt = pd.read_csv('../train.csv' , encoding='big5')"
   ]
  },
  {
   "cell_type": "code",
   "execution_count": 18,
   "metadata": {},
   "outputs": [],
   "source": [
    "def data_cl(dt):\n",
    "    dt = dt.drop(\"CUS_ID\" ,axis=1)\n",
    "    \n",
    "    ohi = pd.get_dummies(dt[\"GENDER\"])\n",
    "    dt = dt.drop(\"GENDER\",axis=1)\n",
    "    dt = pd.concat([ohi,dt],axis=1)\n",
    "    \n",
    "    ohi = pd.get_dummies(dt[\"AGE\"])\n",
    "    dt = dt.drop(\"AGE\",axis=1)\n",
    "    dt = pd.concat([ohi,dt],axis=1)\n",
    "    \n",
    "    \n",
    "    \n",
    "#     sizemap = {\n",
    "#         \"低\":1,\n",
    "#         \"中\":3,\n",
    "#         \"中高\":5,\n",
    "#         \"高\":7\n",
    "#     }\n",
    "\n",
    "#     dt[\"AGE\"] = dt[\"AGE\"].map(sizemap)\n",
    "    \n",
    "#     for i in dt.keys():\n",
    "#         if dt[i].isnull().sum()>60000:\n",
    "#             dt = dt.drop(i,axis=1)\n",
    "\n",
    "    \n",
    "\n",
    "    labelencoder = LabelEncoder()\n",
    "    for i in dt.keys():    \n",
    "        for a in dt[i]:\n",
    "            if  a is not None and isinstance(a,str):\n",
    "                dt[i] = labelencoder.fit_transform(dt[i].astype(str))\n",
    "                break\n",
    "    \n",
    "    for i in dt.keys():\n",
    "        dt[i] = dt[i].fillna(dt[i].mean())\n",
    "    \n",
    "    return dt    \n",
    "    "
   ]
  },
  {
   "cell_type": "code",
   "execution_count": 19,
   "metadata": {
    "scrolled": false
   },
   "outputs": [
    {
     "data": {
      "text/plain": [
       "(100000, 135)"
      ]
     },
     "execution_count": 19,
     "metadata": {},
     "output_type": "execute_result"
    }
   ],
   "source": [
    "dt = data_cl(dt)\n",
    "dt.shape"
   ]
  },
  {
   "cell_type": "code",
   "execution_count": 7,
   "metadata": {},
   "outputs": [
    {
     "data": {
      "text/plain": [
       "(0, 132)"
      ]
     },
     "execution_count": 7,
     "metadata": {},
     "output_type": "execute_result"
    }
   ],
   "source": [
    "dt = dt.sample(frac = 1)\n",
    "\n",
    "fraud_dt = dt.loc[dt['Y1'] == 1]\n",
    "non_fraud_dt = dt.loc[dt['Y1'] == 0][:2000]\n",
    "\n",
    "normal_distributed_dt = pd.concat([fraud_dt, non_fraud_dt])\n",
    "\n",
    "new_dt = normal_distributed_dt.sample(frac=1)\n",
    "# new_dt = normal_distributed_dt.sample(frac=1, random_state=42)\n",
    "\n",
    "new_dt.shape"
   ]
  },
  {
   "cell_type": "code",
   "execution_count": 68,
   "metadata": {},
   "outputs": [],
   "source": [
    "from sklearn import  ensemble, preprocessing, metrics\n",
    "from sklearn.model_selection import train_test_split\n",
    "\n",
    "x = new_dt.drop(\"Y1\",axis=1)\n",
    "y = new_dt[\"Y1\"]\n",
    "train_X, test_X, train_y, test_y = train_test_split(x, y, test_size = 0.3)\n",
    "\n",
    "forest = ensemble.RandomForestClassifier(n_estimators = 131)\n",
    "forest_fit = forest.fit(train_X, train_y)"
   ]
  },
  {
   "cell_type": "code",
   "execution_count": 69,
   "metadata": {},
   "outputs": [
    {
     "name": "stdout",
     "output_type": "stream",
     "text": [
      "0.7498478824402157\n"
     ]
    }
   ],
   "source": [
    "test_y_predicted = forest.predict(test_X)\n",
    "\n",
    "# 績效\n",
    "fpr, tpr, thresholds = metrics.roc_curve(test_y, test_y_predicted)\n",
    "auc = metrics.auc(fpr, tpr)\n",
    "print(auc)"
   ]
  },
  {
   "cell_type": "code",
   "execution_count": 70,
   "metadata": {},
   "outputs": [
    {
     "name": "stdout",
     "output_type": "stream",
     "text": [
      "0.8256938775510203\n"
     ]
    }
   ],
   "source": [
    "x1 = dt.drop(\"Y1\",axis=1)\n",
    "y1 = dt[\"Y1\"]\n",
    "test_y_predicted = forest.predict(x1)\n",
    "\n",
    "# 績效\n",
    "fpr, tpr, thresholds = metrics.roc_curve(y1, test_y_predicted)\n",
    "auc = metrics.auc(fpr, tpr)\n",
    "print(auc)"
   ]
  },
  {
   "cell_type": "markdown",
   "metadata": {},
   "source": [
    "# 預測"
   ]
  },
  {
   "cell_type": "code",
   "execution_count": 41,
   "metadata": {
    "scrolled": false
   },
   "outputs": [
    {
     "name": "stderr",
     "output_type": "stream",
     "text": [
      "C:\\ProgramData\\Anaconda3\\lib\\site-packages\\IPython\\core\\interactiveshell.py:3057: DtypeWarning: Columns (17,21,22) have mixed types. Specify dtype option on import or set low_memory=False.\n",
      "  interactivity=interactivity, compiler=compiler, result=result)\n"
     ]
    }
   ],
   "source": [
    "df = pd.read_csv('../test.csv' , encoding='big5')"
   ]
  },
  {
   "cell_type": "code",
   "execution_count": 42,
   "metadata": {},
   "outputs": [
    {
     "data": {
      "text/plain": [
       "(150000, 84)"
      ]
     },
     "execution_count": 42,
     "metadata": {},
     "output_type": "execute_result"
    }
   ],
   "source": [
    "df = data_cl(df)\n",
    "df = df.drop(x,axis=1)\n",
    "df.shape"
   ]
  },
  {
   "cell_type": "code",
   "execution_count": 45,
   "metadata": {
    "scrolled": true
   },
   "outputs": [],
   "source": [
    "xt1 = df\n",
    "# yt1 = df[\"Y1\"]\n",
    "test_y_predicted = forest.predict(xt1)"
   ]
  },
  {
   "cell_type": "code",
   "execution_count": 46,
   "metadata": {},
   "outputs": [
    {
     "data": {
      "text/plain": [
       "array([1, 0, 0, ..., 1, 1, 1])"
      ]
     },
     "execution_count": 46,
     "metadata": {},
     "output_type": "execute_result"
    }
   ],
   "source": [
    "test_y_predicted"
   ]
  },
  {
   "cell_type": "code",
   "execution_count": 44,
   "metadata": {},
   "outputs": [],
   "source": [
    "gt1 = df\n",
    "\n",
    "\n"
   ]
  },
  {
   "cell_type": "code",
   "execution_count": 40,
   "metadata": {},
   "outputs": [
    {
     "ename": "NameError",
     "evalue": "name 'model' is not defined",
     "output_type": "error",
     "traceback": [
      "\u001b[1;31m---------------------------------------------------------------------------\u001b[0m",
      "\u001b[1;31mNameError\u001b[0m                                 Traceback (most recent call last)",
      "\u001b[1;32m<ipython-input-40-b690eac84975>\u001b[0m in \u001b[0;36m<module>\u001b[1;34m\u001b[0m\n\u001b[1;32m----> 1\u001b[1;33m \u001b[0mtest_y_predicted\u001b[0m \u001b[1;33m=\u001b[0m \u001b[0mmodel\u001b[0m\u001b[1;33m.\u001b[0m\u001b[0mpredict_classes\u001b[0m\u001b[1;33m(\u001b[0m\u001b[0mgt1\u001b[0m\u001b[1;33m)\u001b[0m\u001b[1;33m\u001b[0m\u001b[1;33m\u001b[0m\u001b[0m\n\u001b[0m",
      "\u001b[1;31mNameError\u001b[0m: name 'model' is not defined"
     ]
    }
   ],
   "source": [
    "test_y_predicted = model.predict_classes(gt1)"
   ]
  },
  {
   "cell_type": "code",
   "execution_count": 121,
   "metadata": {},
   "outputs": [
    {
     "data": {
      "text/plain": [
       "array([[0],\n",
       "       [0],\n",
       "       [0],\n",
       "       ...,\n",
       "       [0],\n",
       "       [0],\n",
       "       [0]])"
      ]
     },
     "execution_count": 121,
     "metadata": {},
     "output_type": "execute_result"
    }
   ],
   "source": [
    "test_y_predicted"
   ]
  },
  {
   "cell_type": "code",
   "execution_count": 47,
   "metadata": {},
   "outputs": [],
   "source": [
    "fin = pd.read_csv('../submit_test.csv' , encoding='big5')"
   ]
  },
  {
   "cell_type": "code",
   "execution_count": 48,
   "metadata": {
    "scrolled": true
   },
   "outputs": [],
   "source": [
    "fin[\"Ypred\"] = test_y_predicted"
   ]
  },
  {
   "cell_type": "code",
   "execution_count": 49,
   "metadata": {},
   "outputs": [],
   "source": [
    "fin.to_csv('submit_test.csv')"
   ]
  },
  {
   "cell_type": "code",
   "execution_count": null,
   "metadata": {},
   "outputs": [],
   "source": []
  },
  {
   "cell_type": "code",
   "execution_count": null,
   "metadata": {},
   "outputs": [],
   "source": []
  },
  {
   "cell_type": "code",
   "execution_count": null,
   "metadata": {},
   "outputs": [],
   "source": []
  },
  {
   "cell_type": "code",
   "execution_count": 20,
   "metadata": {},
   "outputs": [],
   "source": [
    "X = dt.drop(\"Y1\",axis=1)\n",
    "y = dt[\"Y1\"]"
   ]
  },
  {
   "cell_type": "code",
   "execution_count": 21,
   "metadata": {},
   "outputs": [
    {
     "data": {
      "text/plain": [
       "(100000, 134)"
      ]
     },
     "execution_count": 21,
     "metadata": {},
     "output_type": "execute_result"
    }
   ],
   "source": [
    "X.shape"
   ]
  },
  {
   "cell_type": "code",
   "execution_count": 22,
   "metadata": {},
   "outputs": [],
   "source": [
    "from keras import models\n",
    "from keras import layers\n",
    "\n",
    "def build_model():\n",
    "    model = models.Sequential()\n",
    "    model.add(layers.Dropout(0.2 ,input_shape=(134,)))\n",
    "    model.add(layers.Dense(134, activation='relu',input_shape=(X.shape[1],)))\n",
    "    model.add(layers.Dense(64, activation='relu'))\n",
    "    model.add(layers.Dense(32, activation=\"relu\"))\n",
    "    model.add(layers.Dense(1))\n",
    "    model.compile(optimizer='adam', loss='mse', metrics=['mae'])\n",
    "    return model"
   ]
  },
  {
   "cell_type": "code",
   "execution_count": 126,
   "metadata": {
    "scrolled": true
   },
   "outputs": [
    {
     "name": "stdout",
     "output_type": "stream",
     "text": [
      "Epoch 1/500\n",
      "Epoch 2/500\n",
      "Epoch 3/500\n",
      "Epoch 4/500\n",
      "Epoch 5/500\n",
      "Epoch 6/500\n",
      "Epoch 7/500\n",
      "Epoch 8/500\n",
      "Epoch 9/500\n",
      "Epoch 10/500\n",
      "Epoch 11/500\n",
      "Epoch 12/500\n",
      "Epoch 13/500\n",
      "Epoch 14/500\n",
      "Epoch 15/500\n",
      "Epoch 16/500\n",
      "Epoch 17/500\n",
      "Epoch 18/500\n",
      "Epoch 19/500\n",
      "Epoch 20/500\n",
      "Epoch 21/500\n",
      "Epoch 22/500\n",
      "Epoch 23/500\n",
      "Epoch 24/500\n",
      "Epoch 25/500\n",
      "Epoch 26/500\n",
      "Epoch 27/500\n",
      "Epoch 28/500\n",
      "Epoch 29/500\n",
      "Epoch 30/500\n",
      "Epoch 31/500\n",
      "Epoch 32/500\n",
      "Epoch 33/500\n",
      "Epoch 34/500\n",
      "Epoch 35/500\n",
      "Epoch 36/500\n",
      "Epoch 37/500\n",
      "Epoch 38/500\n",
      "Epoch 39/500\n",
      "Epoch 40/500\n",
      "Epoch 41/500\n",
      "Epoch 42/500\n",
      "Epoch 43/500\n",
      "Epoch 44/500\n",
      "Epoch 45/500\n",
      "Epoch 46/500\n",
      "Epoch 47/500\n",
      "Epoch 48/500\n",
      "Epoch 49/500\n",
      "Epoch 50/500\n",
      "Epoch 51/500\n",
      "Epoch 52/500\n",
      "Epoch 53/500\n",
      "Epoch 54/500\n",
      "Epoch 55/500\n",
      "Epoch 56/500\n",
      "Epoch 57/500\n",
      "Epoch 58/500\n",
      "Epoch 59/500\n",
      "Epoch 60/500\n",
      "Epoch 61/500\n",
      "Epoch 62/500\n",
      "Epoch 63/500\n",
      "Epoch 64/500\n",
      "Epoch 65/500\n",
      "Epoch 66/500\n",
      "Epoch 67/500\n",
      "Epoch 68/500\n",
      "Epoch 69/500\n",
      "Epoch 70/500\n",
      "Epoch 71/500\n",
      "Epoch 72/500\n",
      "Epoch 73/500\n",
      "Epoch 74/500\n",
      "Epoch 75/500\n",
      "Epoch 76/500\n",
      "Epoch 77/500\n",
      "Epoch 78/500\n",
      "Epoch 79/500\n",
      "Epoch 80/500\n",
      "Epoch 81/500\n",
      "Epoch 82/500\n",
      "Epoch 83/500\n",
      "Epoch 84/500\n",
      "Epoch 85/500\n",
      "Epoch 86/500\n",
      "Epoch 87/500\n",
      "Epoch 88/500\n",
      "Epoch 89/500\n",
      "Epoch 90/500\n",
      "Epoch 91/500\n",
      "Epoch 92/500\n",
      "Epoch 93/500\n",
      "Epoch 94/500\n",
      "Epoch 95/500\n",
      "Epoch 96/500\n",
      "Epoch 97/500\n",
      "Epoch 98/500\n",
      "Epoch 99/500\n",
      "Epoch 100/500\n",
      "Epoch 101/500\n",
      "Epoch 102/500\n",
      "Epoch 103/500\n",
      "Epoch 104/500\n",
      "Epoch 105/500\n",
      "Epoch 106/500\n",
      "Epoch 107/500\n",
      "Epoch 108/500\n",
      "Epoch 109/500\n",
      "Epoch 110/500\n",
      "Epoch 111/500\n",
      "Epoch 112/500\n",
      "Epoch 113/500\n",
      "Epoch 114/500\n",
      "Epoch 115/500\n",
      "Epoch 116/500\n",
      "Epoch 117/500\n",
      "Epoch 118/500\n",
      "Epoch 119/500\n",
      "Epoch 120/500\n",
      "Epoch 121/500\n",
      "Epoch 122/500\n",
      "Epoch 123/500\n",
      "Epoch 124/500\n",
      "Epoch 125/500\n",
      "Epoch 126/500\n",
      "Epoch 127/500\n",
      "Epoch 128/500\n",
      "Epoch 129/500\n",
      "Epoch 130/500\n",
      "Epoch 131/500\n",
      "Epoch 132/500\n",
      "Epoch 133/500\n",
      "Epoch 134/500\n",
      "Epoch 135/500\n",
      "Epoch 136/500\n",
      "Epoch 137/500\n",
      "Epoch 138/500\n",
      "Epoch 139/500\n",
      "Epoch 140/500\n",
      "Epoch 141/500\n",
      "Epoch 142/500\n",
      "Epoch 143/500\n",
      "Epoch 144/500\n",
      "Epoch 145/500\n",
      "Epoch 146/500\n",
      "Epoch 147/500\n",
      "Epoch 148/500\n",
      "Epoch 149/500\n",
      "Epoch 150/500\n",
      "Epoch 151/500\n",
      "Epoch 152/500\n",
      "Epoch 153/500\n",
      "Epoch 154/500\n",
      "Epoch 155/500\n",
      "Epoch 156/500\n",
      "Epoch 157/500\n",
      "Epoch 158/500\n",
      "Epoch 159/500\n",
      "Epoch 160/500\n",
      "Epoch 161/500\n",
      "Epoch 162/500\n",
      "Epoch 163/500\n",
      "Epoch 164/500\n",
      "Epoch 165/500\n",
      "Epoch 166/500\n",
      "Epoch 167/500\n",
      "Epoch 168/500\n",
      "Epoch 169/500\n",
      "Epoch 170/500\n",
      "Epoch 171/500\n",
      "Epoch 172/500\n",
      "Epoch 173/500\n",
      "Epoch 174/500\n",
      "Epoch 175/500\n",
      "Epoch 176/500\n",
      "Epoch 177/500\n",
      "Epoch 178/500\n",
      "Epoch 179/500\n",
      "Epoch 180/500\n",
      "Epoch 181/500\n",
      "Epoch 182/500\n",
      "Epoch 183/500\n",
      "Epoch 184/500\n",
      "Epoch 185/500\n",
      "Epoch 186/500\n",
      "Epoch 187/500\n",
      "Epoch 188/500\n",
      "Epoch 189/500\n",
      "Epoch 190/500\n",
      "Epoch 191/500\n",
      "Epoch 192/500\n",
      "Epoch 193/500\n",
      "Epoch 194/500\n",
      "Epoch 195/500\n",
      "Epoch 196/500\n",
      "Epoch 197/500\n",
      "Epoch 198/500\n",
      "Epoch 199/500\n",
      "Epoch 200/500\n",
      "Epoch 201/500\n",
      "Epoch 202/500\n",
      "Epoch 203/500\n",
      "Epoch 204/500\n",
      "Epoch 205/500\n",
      "Epoch 206/500\n",
      "Epoch 207/500\n",
      "Epoch 208/500\n",
      "Epoch 209/500\n",
      "Epoch 210/500\n",
      "Epoch 211/500\n",
      "Epoch 212/500\n",
      "Epoch 213/500\n",
      "Epoch 214/500\n",
      "Epoch 215/500\n",
      "Epoch 216/500\n",
      "Epoch 217/500\n",
      "Epoch 218/500\n",
      "Epoch 219/500\n",
      "Epoch 220/500\n",
      "Epoch 221/500\n",
      "Epoch 222/500\n",
      "Epoch 223/500\n",
      "Epoch 224/500\n",
      "Epoch 225/500\n",
      "Epoch 226/500\n",
      "Epoch 227/500\n",
      "Epoch 228/500\n",
      "Epoch 229/500\n",
      "Epoch 230/500\n",
      "Epoch 231/500\n",
      "Epoch 232/500\n",
      "Epoch 233/500\n",
      "Epoch 234/500\n",
      "Epoch 235/500\n",
      "Epoch 236/500\n",
      "Epoch 237/500\n",
      "Epoch 238/500\n",
      "Epoch 239/500\n",
      "Epoch 240/500\n",
      "Epoch 241/500\n",
      "Epoch 242/500\n",
      "Epoch 243/500\n",
      "Epoch 244/500\n",
      "Epoch 245/500\n",
      "Epoch 246/500\n",
      "Epoch 247/500\n",
      "Epoch 248/500\n",
      "Epoch 249/500\n",
      "Epoch 250/500\n",
      "Epoch 251/500\n",
      "Epoch 252/500\n",
      "Epoch 253/500\n",
      "Epoch 254/500\n",
      "Epoch 255/500\n",
      "Epoch 256/500\n",
      "Epoch 257/500\n",
      "Epoch 258/500\n",
      "Epoch 259/500\n",
      "Epoch 260/500\n",
      "Epoch 261/500\n",
      "Epoch 262/500\n",
      "Epoch 263/500\n",
      "Epoch 264/500\n",
      "Epoch 265/500\n",
      "Epoch 266/500\n",
      "Epoch 267/500\n",
      "Epoch 268/500\n",
      "Epoch 269/500\n",
      "Epoch 270/500\n",
      "Epoch 271/500\n",
      "Epoch 272/500\n",
      "Epoch 273/500\n",
      "Epoch 274/500\n",
      "Epoch 275/500\n",
      "Epoch 276/500\n",
      "Epoch 277/500\n",
      "Epoch 278/500\n",
      "Epoch 279/500\n",
      "Epoch 280/500\n",
      "Epoch 281/500\n",
      "Epoch 282/500\n",
      "Epoch 283/500\n",
      "Epoch 284/500\n",
      "Epoch 285/500\n",
      "Epoch 286/500\n",
      "Epoch 287/500\n",
      "Epoch 288/500\n",
      "Epoch 289/500\n",
      "Epoch 290/500\n",
      "Epoch 291/500\n",
      "Epoch 292/500\n",
      "Epoch 293/500\n",
      "Epoch 294/500\n",
      "Epoch 295/500\n",
      "Epoch 296/500\n",
      "Epoch 297/500\n",
      "Epoch 298/500\n",
      "Epoch 299/500\n",
      "Epoch 300/500\n",
      "Epoch 301/500\n",
      "Epoch 302/500\n",
      "Epoch 303/500\n",
      "Epoch 304/500\n",
      "Epoch 305/500\n",
      "Epoch 306/500\n",
      "Epoch 307/500\n",
      "Epoch 308/500\n",
      "Epoch 309/500\n",
      "Epoch 310/500\n",
      "Epoch 311/500\n",
      "Epoch 312/500\n",
      "Epoch 313/500\n",
      "Epoch 314/500\n",
      "Epoch 315/500\n",
      "Epoch 316/500\n",
      "Epoch 317/500\n",
      "Epoch 318/500\n",
      "Epoch 319/500\n",
      "Epoch 320/500\n",
      "Epoch 321/500\n",
      "Epoch 322/500\n",
      "Epoch 323/500\n",
      "Epoch 324/500\n",
      "Epoch 325/500\n",
      "Epoch 326/500\n",
      "Epoch 327/500\n",
      "Epoch 328/500\n",
      "Epoch 329/500\n",
      "Epoch 330/500\n",
      "Epoch 331/500\n",
      "Epoch 332/500\n",
      "Epoch 333/500\n",
      "Epoch 334/500\n",
      "Epoch 335/500\n",
      "Epoch 336/500\n",
      "Epoch 337/500\n",
      "Epoch 338/500\n",
      "Epoch 339/500\n",
      "Epoch 340/500\n",
      "Epoch 341/500\n",
      "Epoch 342/500\n",
      "Epoch 343/500\n",
      "Epoch 344/500\n",
      "Epoch 345/500\n",
      "Epoch 346/500\n",
      "Epoch 347/500\n",
      "Epoch 348/500\n",
      "Epoch 349/500\n",
      "Epoch 350/500\n",
      "Epoch 351/500\n",
      "Epoch 352/500\n",
      "Epoch 353/500\n",
      "Epoch 354/500\n",
      "Epoch 355/500\n",
      "Epoch 356/500\n",
      "Epoch 357/500\n",
      "Epoch 358/500\n",
      "Epoch 359/500\n",
      "Epoch 360/500\n",
      "Epoch 361/500\n",
      "Epoch 362/500\n",
      "Epoch 363/500\n",
      "Epoch 364/500\n",
      "Epoch 365/500\n",
      "Epoch 366/500\n",
      "Epoch 367/500\n",
      "Epoch 368/500\n",
      "Epoch 369/500\n",
      "Epoch 370/500\n",
      "Epoch 371/500\n",
      "Epoch 372/500\n",
      "Epoch 373/500\n",
      "Epoch 374/500\n",
      "Epoch 375/500\n",
      "Epoch 376/500\n",
      "Epoch 377/500\n",
      "Epoch 378/500\n",
      "Epoch 379/500\n",
      "Epoch 380/500\n",
      "Epoch 381/500\n",
      "Epoch 382/500\n",
      "Epoch 383/500\n",
      "Epoch 384/500\n",
      "Epoch 385/500\n",
      "Epoch 386/500\n",
      "Epoch 387/500\n",
      "Epoch 388/500\n",
      "Epoch 389/500\n",
      "Epoch 390/500\n",
      "Epoch 391/500\n",
      "Epoch 392/500\n",
      "Epoch 393/500\n",
      "Epoch 394/500\n",
      "Epoch 395/500\n",
      "Epoch 396/500\n",
      "Epoch 397/500\n",
      "Epoch 398/500\n",
      "Epoch 399/500\n",
      "Epoch 400/500\n",
      "Epoch 401/500\n",
      "Epoch 402/500\n",
      "Epoch 403/500\n",
      "Epoch 404/500\n",
      "Epoch 405/500\n",
      "Epoch 406/500\n",
      "Epoch 407/500\n",
      "Epoch 408/500\n",
      "Epoch 409/500\n",
      "Epoch 410/500\n",
      "Epoch 411/500\n",
      "Epoch 412/500\n",
      "Epoch 413/500\n",
      "Epoch 414/500\n",
      "Epoch 415/500\n",
      "Epoch 416/500\n",
      "Epoch 417/500\n",
      "Epoch 418/500\n",
      "Epoch 419/500\n",
      "Epoch 420/500\n",
      "Epoch 421/500\n",
      "Epoch 422/500\n",
      "Epoch 423/500\n",
      "Epoch 424/500\n",
      "Epoch 425/500\n",
      "Epoch 426/500\n",
      "Epoch 427/500\n",
      "Epoch 428/500\n",
      "Epoch 429/500\n",
      "Epoch 430/500\n",
      "Epoch 431/500\n",
      "Epoch 432/500\n",
      "Epoch 433/500\n",
      "Epoch 434/500\n",
      "Epoch 435/500\n",
      "Epoch 436/500\n",
      "Epoch 437/500\n",
      "Epoch 438/500\n",
      "Epoch 439/500\n",
      "Epoch 440/500\n",
      "Epoch 441/500\n",
      "Epoch 442/500\n",
      "Epoch 443/500\n",
      "Epoch 444/500\n",
      "Epoch 445/500\n",
      "Epoch 446/500\n",
      "Epoch 447/500\n",
      "Epoch 448/500\n",
      "Epoch 449/500\n",
      "Epoch 450/500\n",
      "Epoch 451/500\n",
      "Epoch 452/500\n",
      "Epoch 453/500\n",
      "Epoch 454/500\n",
      "Epoch 455/500\n",
      "Epoch 456/500\n",
      "Epoch 457/500\n",
      "Epoch 458/500\n",
      "Epoch 459/500\n",
      "Epoch 460/500\n",
      "Epoch 461/500\n",
      "Epoch 462/500\n",
      "Epoch 463/500\n",
      "Epoch 464/500\n",
      "Epoch 465/500\n",
      "Epoch 466/500\n",
      "Epoch 467/500\n",
      "Epoch 468/500\n",
      "Epoch 469/500\n",
      "Epoch 470/500\n",
      "Epoch 471/500\n",
      "Epoch 472/500\n",
      "Epoch 473/500\n",
      "Epoch 474/500\n",
      "Epoch 475/500\n",
      "Epoch 476/500\n",
      "Epoch 477/500\n",
      "Epoch 478/500\n",
      "Epoch 479/500\n",
      "Epoch 480/500\n",
      "Epoch 481/500\n",
      "Epoch 482/500\n",
      "Epoch 483/500\n",
      "Epoch 484/500\n",
      "Epoch 485/500\n",
      "Epoch 486/500\n",
      "Epoch 487/500\n",
      "Epoch 488/500\n",
      "Epoch 489/500\n",
      "Epoch 490/500\n",
      "Epoch 491/500\n",
      "Epoch 492/500\n",
      "Epoch 493/500\n",
      "Epoch 494/500\n",
      "Epoch 495/500\n",
      "Epoch 496/500\n",
      "Epoch 497/500\n",
      "Epoch 498/500\n",
      "Epoch 499/500\n",
      "Epoch 500/500\n"
     ]
    },
    {
     "data": {
      "text/plain": [
       "<keras.callbacks.callbacks.History at 0x20500e8c4a8>"
      ]
     },
     "execution_count": 126,
     "metadata": {},
     "output_type": "execute_result"
    }
   ],
   "source": [
    "model = build_model()\n",
    "\n",
    "model.fit(X, y, epochs=500, verbose=14)"
   ]
  },
  {
   "cell_type": "code",
   "execution_count": 127,
   "metadata": {},
   "outputs": [
    {
     "name": "stdout",
     "output_type": "stream",
     "text": [
      "0.5887244897959183\n"
     ]
    }
   ],
   "source": [
    "from sklearn import  ensemble, preprocessing, metrics\n",
    "ttx = dt.drop(\"Y1\",axis=1)\n",
    "tty = dt[\"Y1\"]\n",
    "test_y_predicted = model.predict_classes(ttx)\n",
    "\n",
    "# 績效\n",
    "fpr, tpr, thresholds = metrics.roc_curve(tty, test_y_predicted)\n",
    "auc = metrics.auc(fpr, tpr)\n",
    "print(auc)"
   ]
  },
  {
   "cell_type": "code",
   "execution_count": 128,
   "metadata": {},
   "outputs": [
    {
     "name": "stdout",
     "output_type": "stream",
     "text": [
      "0.58875\n"
     ]
    }
   ],
   "source": [
    "ttx2 = new_dt.drop(\"Y1\",axis=1)\n",
    "tty2 = new_dt[\"Y1\"]\n",
    "test_y_predicted = model.predict_classes(ttx2)\n",
    "\n",
    "# 績效\n",
    "fpr, tpr, thresholds = metrics.roc_curve(tty2, test_y_predicted)\n",
    "auc = metrics.auc(fpr, tpr)\n",
    "print(auc)"
   ]
  },
  {
   "cell_type": "code",
   "execution_count": null,
   "metadata": {},
   "outputs": [],
   "source": []
  },
  {
   "cell_type": "code",
   "execution_count": null,
   "metadata": {},
   "outputs": [],
   "source": []
  },
  {
   "cell_type": "code",
   "execution_count": 23,
   "metadata": {},
   "outputs": [
    {
     "name": "stderr",
     "output_type": "stream",
     "text": [
      "C:\\ProgramData\\Anaconda3\\lib\\site-packages\\sklearn\\linear_model\\logistic.py:432: FutureWarning: Default solver will be changed to 'lbfgs' in 0.22. Specify a solver to silence this warning.\n",
      "  FutureWarning)\n"
     ]
    },
    {
     "name": "stdout",
     "output_type": "stream",
     "text": [
      "[-3.91807963]\n"
     ]
    }
   ],
   "source": [
    "x = dt.drop(\"Y1\",axis=1)\n",
    "y = dt[\"Y1\"]\n",
    "train_X, test_X, train_y, test_y = train_test_split(x, y, test_size = 0.3)\n",
    "\n",
    "from sklearn.linear_model  import LogisticRegression\n",
    "lr=LogisticRegression()\n",
    "lr.fit(train_X,train_y)\n",
    "\n",
    "\n",
    "# 印出截距\n",
    "print(lr.intercept_ )"
   ]
  },
  {
   "cell_type": "code",
   "execution_count": 24,
   "metadata": {},
   "outputs": [],
   "source": [
    "# 印出係數\n",
    "a = abs(lr.coef_)[0]\n",
    "c =lr.coef_[0]"
   ]
  },
  {
   "cell_type": "code",
   "execution_count": 25,
   "metadata": {},
   "outputs": [],
   "source": [
    "a = list(a)\n",
    "c = list(c)"
   ]
  },
  {
   "cell_type": "code",
   "execution_count": 26,
   "metadata": {},
   "outputs": [],
   "source": [
    "newa = list(c)\n",
    "newa.sort()"
   ]
  },
  {
   "cell_type": "code",
   "execution_count": 27,
   "metadata": {},
   "outputs": [
    {
     "data": {
      "text/plain": [
       "[-1.9291776089693016,\n",
       " -1.2471456723626801,\n",
       " -1.2089010998617806,\n",
       " -0.8059760425395852,\n",
       " -0.7899188654544171,\n",
       " -0.7404898037727388,\n",
       " -0.6609309136885553,\n",
       " -0.6269095000950553,\n",
       " -0.6241872555935166,\n",
       " -0.5519149923552565,\n",
       " -0.5510030621709722,\n",
       " -0.44629422944389435,\n",
       " -0.444043036979526,\n",
       " -0.3753946685270404,\n",
       " -0.3440845115231613,\n",
       " -0.32800238887123395,\n",
       " -0.29546212168525865,\n",
       " -0.2747758281258532,\n",
       " -0.2699845249938068,\n",
       " -0.2511940150691464,\n",
       " -0.23262172805645123,\n",
       " -0.23261772630309155,\n",
       " -0.21004996233498213,\n",
       " -0.19133572269555513,\n",
       " -0.18521660851466054,\n",
       " -0.1842765089129195,\n",
       " -0.1790767037425482,\n",
       " -0.1784007823779368,\n",
       " -0.16815868760753158,\n",
       " -0.1554231416169179,\n",
       " -0.15387424836062585,\n",
       " -0.15052506050334316,\n",
       " -0.13562430095035233,\n",
       " -0.13455143089409272,\n",
       " -0.1338273040967346,\n",
       " -0.13080424435401145,\n",
       " -0.1293817246378183,\n",
       " -0.12850711884286706,\n",
       " -0.1151421957560166,\n",
       " -0.11097394986417583,\n",
       " -0.11081244867956253,\n",
       " -0.0976037340625755,\n",
       " -0.09755446556203608,\n",
       " -0.0959530750438256,\n",
       " -0.0751311212235669,\n",
       " -0.07346510423441763,\n",
       " -0.0636124928215741,\n",
       " -0.053725839937708915,\n",
       " -0.046993328273424874,\n",
       " -0.03881286102523065,\n",
       " -0.03827433287718528,\n",
       " -0.03481317851699217,\n",
       " -0.030266318448895796,\n",
       " -0.02710514674652441,\n",
       " -0.021967327326816097,\n",
       " -0.0215310028961546,\n",
       " -0.019129222552299114,\n",
       " -0.014985905421261764,\n",
       " -0.012719436532824051,\n",
       " -0.011820766693603704,\n",
       " -0.01060591734934888,\n",
       " -0.008295650318915276,\n",
       " -0.0017278042840497118,\n",
       " 0.0018925658253970982,\n",
       " 0.0026699975643388572,\n",
       " 0.007200919911687401,\n",
       " 0.00956286680058276,\n",
       " 0.012097588564288976,\n",
       " 0.013932046958585093,\n",
       " 0.015141043843091692,\n",
       " 0.017447501453096217,\n",
       " 0.018277340465442906,\n",
       " 0.01949735128327582,\n",
       " 0.02060038158647916,\n",
       " 0.026118306678632807,\n",
       " 0.043052852250482734,\n",
       " 0.04323790629906631,\n",
       " 0.043854977575155746,\n",
       " 0.05457386800318083,\n",
       " 0.055595928618257545,\n",
       " 0.05646649984768069,\n",
       " 0.06317306460936445,\n",
       " 0.06740827571156596,\n",
       " 0.06937706236055485,\n",
       " 0.07079249909955598,\n",
       " 0.07109921001948688,\n",
       " 0.07516281406674184,\n",
       " 0.08071498004060071,\n",
       " 0.08197442764307707,\n",
       " 0.08670808660239197,\n",
       " 0.09346739187446367,\n",
       " 0.10609561447414932,\n",
       " 0.10846527099370391,\n",
       " 0.10901787256161587,\n",
       " 0.10985863171279965,\n",
       " 0.11074509196312818,\n",
       " 0.12210135444748202,\n",
       " 0.12318568195178593,\n",
       " 0.13164789250991044,\n",
       " 0.13788310850667201,\n",
       " 0.15717274914488735,\n",
       " 0.16463542414250987,\n",
       " 0.1661254606716423,\n",
       " 0.18162749707116368,\n",
       " 0.18386078390864924,\n",
       " 0.19035731987260185,\n",
       " 0.20906942146457907,\n",
       " 0.2166002933752953,\n",
       " 0.22075221188136354,\n",
       " 0.22294192638297583,\n",
       " 0.22649972741415098,\n",
       " 0.2647728186531133,\n",
       " 0.2716297503747952,\n",
       " 0.30296016823688593,\n",
       " 0.32061789215569203,\n",
       " 0.3206896962729796,\n",
       " 0.4134507937298463,\n",
       " 0.4400133722797076,\n",
       " 0.4538768135525592,\n",
       " 0.4743710248062841,\n",
       " 0.48101254229966184,\n",
       " 0.5519674068684288,\n",
       " 0.5729056587114125,\n",
       " 0.5946562970431809,\n",
       " 0.6274111834701349,\n",
       " 0.6881635342813796,\n",
       " 0.718015225399964,\n",
       " 0.7358182465729066,\n",
       " 0.772118521223808,\n",
       " 0.8535213124697172,\n",
       " 0.8884696085100201,\n",
       " 0.9093763868577139,\n",
       " 1.283022615305537,\n",
       " 2.4413771679468224]"
      ]
     },
     "execution_count": 27,
     "metadata": {},
     "output_type": "execute_result"
    }
   ],
   "source": [
    "newa"
   ]
  },
  {
   "cell_type": "code",
   "execution_count": null,
   "metadata": {
    "scrolled": true
   },
   "outputs": [],
   "source": [
    "dt.columns[c[c.index(newa[-2])]"
   ]
  },
  {
   "cell_type": "code",
   "execution_count": null,
   "metadata": {},
   "outputs": [],
   "source": [
    "c[c.index(newa[-2])]"
   ]
  },
  {
   "cell_type": "code",
   "execution_count": null,
   "metadata": {},
   "outputs": [],
   "source": [
    "dt.head()"
   ]
  },
  {
   "cell_type": "code",
   "execution_count": 28,
   "metadata": {},
   "outputs": [],
   "source": [
    "x = []\n",
    "for i in newa:\n",
    "    if abs(i) < 0.1:\n",
    "        x.append(dt.columns[c.index(i)])"
   ]
  },
  {
   "cell_type": "code",
   "execution_count": null,
   "metadata": {},
   "outputs": [],
   "source": []
  },
  {
   "cell_type": "code",
   "execution_count": 30,
   "metadata": {},
   "outputs": [],
   "source": [
    "fix_dt = dt.drop(x,axis=1)"
   ]
  },
  {
   "cell_type": "code",
   "execution_count": 31,
   "metadata": {},
   "outputs": [],
   "source": [
    "fx = fix_dt.drop(\"Y1\",axis=1)\n",
    "fy = fix_dt[\"Y1\"]"
   ]
  },
  {
   "cell_type": "code",
   "execution_count": 32,
   "metadata": {},
   "outputs": [
    {
     "data": {
      "text/plain": [
       "(4000, 85)"
      ]
     },
     "execution_count": 32,
     "metadata": {},
     "output_type": "execute_result"
    }
   ],
   "source": [
    "fix_dt = fix_dt.sample(frac = 1)\n",
    "\n",
    "fraud_dt = fix_dt.loc[dt['Y1'] == 1]\n",
    "non_fraud_dt = fix_dt.loc[dt['Y1'] == 0][:2000]\n",
    "\n",
    "normal_distributed_dt = pd.concat([fraud_dt, non_fraud_dt])\n",
    "\n",
    "new_dtf = normal_distributed_dt.sample(frac=1)\n",
    "# new_dt = normal_distributed_dt.sample(frac=1, random_state=42)\n",
    "\n",
    "new_dtf.shape"
   ]
  },
  {
   "cell_type": "code",
   "execution_count": 33,
   "metadata": {},
   "outputs": [],
   "source": [
    "from sklearn import  ensemble, preprocessing, metrics\n",
    "from sklearn.model_selection import train_test_split\n",
    "\n",
    "xf = new_dtf.drop(\"Y1\",axis=1)\n",
    "yf = new_dtf[\"Y1\"]\n",
    "train_x, test_x, train_y, test_y = train_test_split(xf, yf, test_size = 0.3)\n",
    "\n",
    "forest = ensemble.RandomForestClassifier(n_estimators = 131)\n",
    "forest_fit = forest.fit(train_x, train_y)"
   ]
  },
  {
   "cell_type": "code",
   "execution_count": 34,
   "metadata": {},
   "outputs": [
    {
     "name": "stdout",
     "output_type": "stream",
     "text": [
      "0.7065437823913473\n"
     ]
    }
   ],
   "source": [
    "test_y_predicted = forest.predict(test_x)\n",
    "\n",
    "# 績效\n",
    "fpr, tpr, thresholds = metrics.roc_curve(test_y, test_y_predicted)\n",
    "auc = metrics.auc(fpr, tpr)\n",
    "print(auc)"
   ]
  },
  {
   "cell_type": "code",
   "execution_count": 35,
   "metadata": {},
   "outputs": [
    {
     "name": "stdout",
     "output_type": "stream",
     "text": [
      "0.8093316326530613\n"
     ]
    }
   ],
   "source": [
    "x1 = fix_dt.drop(\"Y1\",axis=1)\n",
    "y1 = fix_dt[\"Y1\"]\n",
    "test_y_predicted = forest.predict(x1)\n",
    "\n",
    "# 績效\n",
    "fpr, tpr, thresholds = metrics.roc_curve(y1, test_y_predicted)\n",
    "auc = metrics.auc(fpr, tpr)\n",
    "print(auc)"
   ]
  },
  {
   "cell_type": "code",
   "execution_count": null,
   "metadata": {},
   "outputs": [],
   "source": []
  },
  {
   "cell_type": "code",
   "execution_count": null,
   "metadata": {},
   "outputs": [],
   "source": []
  },
  {
   "cell_type": "code",
   "execution_count": null,
   "metadata": {},
   "outputs": [],
   "source": []
  }
 ],
 "metadata": {
  "kernelspec": {
   "display_name": "Python 3",
   "language": "python",
   "name": "python3"
  },
  "language_info": {
   "codemirror_mode": {
    "name": "ipython",
    "version": 3
   },
   "file_extension": ".py",
   "mimetype": "text/x-python",
   "name": "python",
   "nbconvert_exporter": "python",
   "pygments_lexer": "ipython3",
   "version": "3.7.3"
  }
 },
 "nbformat": 4,
 "nbformat_minor": 2
}
