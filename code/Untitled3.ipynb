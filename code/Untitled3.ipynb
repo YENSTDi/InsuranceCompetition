{
 "cells": [
  {
   "cell_type": "code",
   "execution_count": 29,
   "metadata": {},
   "outputs": [
    {
     "name": "stderr",
     "output_type": "stream",
     "text": [
      "C:\\ProgramData\\Anaconda3\\lib\\site-packages\\IPython\\core\\interactiveshell.py:3057: DtypeWarning: Columns (17,21,22) have mixed types. Specify dtype option on import or set low_memory=False.\n",
      "  interactivity=interactivity, compiler=compiler, result=result)\n"
     ]
    }
   ],
   "source": [
    "import pandas as pd\n",
    "from sklearn import ensemble, preprocessing, metrics\n",
    "from sklearn.model_selection import train_test_split\n",
    "\n",
    "df = pd.read_csv('../train.csv' , encoding='big5')\n",
    "df = data_cl(df)\n",
    "xf = df.drop(\"Y1\",axis=1)\n",
    "yf = df[\"Y1\"]\n"
   ]
  },
  {
   "cell_type": "code",
   "execution_count": 33,
   "metadata": {},
   "outputs": [
    {
     "name": "stdout",
     "output_type": "stream",
     "text": [
      "0.5041747475434478\n"
     ]
    }
   ],
   "source": [
    "train_x, test_x, train_y, test_y = train_test_split(xf, yf, test_size = 0.3)\n",
    "forest = ensemble.RandomForestClassifier(n_estimators = 131)\n",
    "forest_fit = forest.fit(train_x, train_y)\n",
    "test_y_predicted = forest.predict(test_x)\n",
    "\n",
    "fpr, tpr, thresholds = metrics.roc_curve(test_y, test_y_predicted)\n",
    "auc = metrics.auc(fpr, tpr)\n",
    "print(auc)"
   ]
  },
  {
   "cell_type": "code",
   "execution_count": 20,
   "metadata": {},
   "outputs": [],
   "source": [
    "from sklearn.preprocessing import LabelEncoder\n",
    "def data_cl(dt):\n",
    "    dt = dt.drop(\"CUS_ID\" ,axis=1)\n",
    "    \n",
    "    ohi = pd.get_dummies(dt[\"GENDER\"])\n",
    "    dt = dt.drop(\"GENDER\",axis=1)\n",
    "    dt = pd.concat([ohi,dt],axis=1)\n",
    "    \n",
    "    ohi = pd.get_dummies(dt[\"AGE\"])\n",
    "    dt = dt.drop(\"AGE\",axis=1)\n",
    "    dt = pd.concat([ohi,dt],axis=1)\n",
    "\n",
    "    labelencoder = LabelEncoder()\n",
    "    for i in dt.keys():    \n",
    "        for a in dt[i]:\n",
    "            if  a is not None and isinstance(a,str):\n",
    "                dt[i] = labelencoder.fit_transform(dt[i].astype(str))\n",
    "                break\n",
    "    \n",
    "    for i in dt.keys():\n",
    "        dt[i] = dt[i].fillna(dt[i].mean())\n",
    "    \n",
    "    return dt  "
   ]
  },
  {
   "cell_type": "code",
   "execution_count": null,
   "metadata": {},
   "outputs": [],
   "source": []
  }
 ],
 "metadata": {
  "kernelspec": {
   "display_name": "Python 3",
   "language": "python",
   "name": "python3"
  },
  "language_info": {
   "codemirror_mode": {
    "name": "ipython",
    "version": 3
   },
   "file_extension": ".py",
   "mimetype": "text/x-python",
   "name": "python",
   "nbconvert_exporter": "python",
   "pygments_lexer": "ipython3",
   "version": "3.7.3"
  }
 },
 "nbformat": 4,
 "nbformat_minor": 2
}
