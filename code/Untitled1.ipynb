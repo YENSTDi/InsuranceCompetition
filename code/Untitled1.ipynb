{
 "cells": [
  {
   "cell_type": "code",
   "execution_count": 2,
   "metadata": {},
   "outputs": [
    {
     "name": "stdout",
     "output_type": "stream",
     "text": [
      "Collecting pymprog\n",
      "  Downloading https://files.pythonhosted.org/packages/fb/b4/27e6dc89387535829127b8e577226f0a82215da174b451198312e0afe5d0/pymprog-1.1.2.tar.gz (44kB)\n",
      "Collecting swiglpk>=1.4.4 (from pymprog)\n",
      "  Downloading https://files.pythonhosted.org/packages/65/c1/e05880234e8a364660a597e0a65c4e7d188c6390bc00807fca72e2f0f514/swiglpk-4.65.0-cp37-cp37m-win_amd64.whl (543kB)\n",
      "Building wheels for collected packages: pymprog\n",
      "  Building wheel for pymprog (setup.py): started\n",
      "  Building wheel for pymprog (setup.py): finished with status 'done'\n",
      "  Stored in directory: C:\\Users\\user\\AppData\\Local\\pip\\Cache\\wheels\\fa\\09\\59\\ef649891969b65ff8de663e7a0a65bf27ba0c273e2a0795a44\n",
      "Successfully built pymprog\n",
      "Installing collected packages: swiglpk, pymprog\n",
      "Successfully installed pymprog-1.1.2 swiglpk-4.65.0\n"
     ]
    }
   ],
   "source": [
    "!pip install pymprog"
   ]
  },
  {
   "cell_type": "code",
   "execution_count": 4,
   "metadata": {},
   "outputs": [],
   "source": [
    "from pymprog import *\n",
    "begin('bike production')\n",
    "x, y = var('x, y') # variables\n",
    "maximize(15 * x + 10 * y, 'profit')\n",
    "x <= 3 # mountain bike limit\n",
    "y <= 4 # racer production limit\n",
    "x + y <= 5 # metal finishing limit\n",
    "solve()"
   ]
  },
  {
   "cell_type": "code",
   "execution_count": null,
   "metadata": {},
   "outputs": [],
   "source": []
  }
 ],
 "metadata": {
  "kernelspec": {
   "display_name": "Python 3",
   "language": "python",
   "name": "python3"
  },
  "language_info": {
   "codemirror_mode": {
    "name": "ipython",
    "version": 3
   },
   "file_extension": ".py",
   "mimetype": "text/x-python",
   "name": "python",
   "nbconvert_exporter": "python",
   "pygments_lexer": "ipython3",
   "version": "3.7.3"
  }
 },
 "nbformat": 4,
 "nbformat_minor": 2
}
