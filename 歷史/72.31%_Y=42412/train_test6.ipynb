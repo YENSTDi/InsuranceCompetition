{
 "cells": [
  {
   "cell_type": "code",
   "execution_count": 1,
   "metadata": {},
   "outputs": [
    {
     "name": "stderr",
     "output_type": "stream",
     "text": [
      "Using TensorFlow backend.\n"
     ]
    }
   ],
   "source": [
    "import numpy as np # linear algebra\n",
    "import pandas as pd # data processing, CSV file I/O (e.g. pd.read_csv)\n",
    "import tensorflow as tf\n",
    "import matplotlib.pyplot as plt\n",
    "import seaborn as sns\n",
    "from sklearn.manifold import TSNE\n",
    "from sklearn.decomposition import PCA, TruncatedSVD\n",
    "import matplotlib.patches as mpatches\n",
    "import time\n",
    "\n",
    "# Classifier Libraries\n",
    "from sklearn.linear_model import LogisticRegression\n",
    "from sklearn.svm import SVC\n",
    "from sklearn.neighbors import KNeighborsClassifier\n",
    "from sklearn.tree import DecisionTreeClassifier\n",
    "from sklearn.ensemble import RandomForestClassifier\n",
    "import collections\n",
    "\n",
    "\n",
    "# Other Libraries\n",
    "from sklearn.model_selection import train_test_split\n",
    "from sklearn.pipeline import make_pipeline\n",
    "from imblearn.pipeline import make_pipeline as imbalanced_make_pipeline\n",
    "from imblearn.over_sampling import SMOTE\n",
    "from imblearn.under_sampling import NearMiss\n",
    "from imblearn.metrics import classification_report_imbalanced\n",
    "from sklearn.metrics import precision_score, recall_score, f1_score, roc_auc_score, accuracy_score, classification_report\n",
    "from collections import Counter\n",
    "from sklearn.model_selection import KFold, StratifiedKFold\n",
    "import warnings\n",
    "\n",
    "import pandas as pd\n",
    "import numpy as np\n",
    "from sklearn.preprocessing import StandardScaler, RobustScaler\n",
    "\n",
    "from sklearn.preprocessing import LabelEncoder\n",
    "from sklearn.linear_model  import LogisticRegression\n",
    "\n",
    "from sklearn import  ensemble, preprocessing, metrics"
   ]
  },
  {
   "cell_type": "code",
   "execution_count": 2,
   "metadata": {},
   "outputs": [
    {
     "name": "stderr",
     "output_type": "stream",
     "text": [
      "C:\\ProgramData\\Anaconda3\\lib\\site-packages\\IPython\\core\\interactiveshell.py:3057: DtypeWarning: Columns (17,21,22) have mixed types. Specify dtype option on import or set low_memory=False.\n",
      "  interactivity=interactivity, compiler=compiler, result=result)\n"
     ]
    }
   ],
   "source": [
    "dt = pd.read_csv('../train.csv' , encoding='big5')"
   ]
  },
  {
   "cell_type": "code",
   "execution_count": 3,
   "metadata": {},
   "outputs": [],
   "source": [
    "def data_cl(dt):\n",
    "    dt = dt.drop(\"CUS_ID\" ,axis=1)\n",
    "    \n",
    "    ohi = pd.get_dummies(dt[\"GENDER\"])\n",
    "    dt = dt.drop(\"GENDER\",axis=1)\n",
    "    dt = pd.concat([ohi,dt],axis=1)\n",
    "    \n",
    "    ohi = pd.get_dummies(dt[\"AGE\"])\n",
    "    dt = dt.drop(\"AGE\",axis=1)\n",
    "    dt = pd.concat([ohi,dt],axis=1)\n",
    "\n",
    "    labelencoder = LabelEncoder()\n",
    "    for i in dt.keys():    \n",
    "        for a in dt[i]:\n",
    "            if  a is not None and isinstance(a,str):\n",
    "                dt[i] = labelencoder.fit_transform(dt[i].astype(str))\n",
    "                break\n",
    "    \n",
    "    for i in dt.keys():\n",
    "        dt[i] = dt[i].fillna(dt[i].mean())\n",
    "    \n",
    "    return dt    \n",
    "    "
   ]
  },
  {
   "cell_type": "code",
   "execution_count": 4,
   "metadata": {},
   "outputs": [
    {
     "data": {
      "text/plain": [
       "(100000, 135)"
      ]
     },
     "execution_count": 4,
     "metadata": {},
     "output_type": "execute_result"
    }
   ],
   "source": [
    "dt = data_cl(dt)\n",
    "dt.shape"
   ]
  },
  {
   "cell_type": "code",
   "execution_count": 5,
   "metadata": {},
   "outputs": [
    {
     "data": {
      "text/plain": [
       "135"
      ]
     },
     "execution_count": 5,
     "metadata": {},
     "output_type": "execute_result"
    }
   ],
   "source": [
    "dt.shape[1]"
   ]
  },
  {
   "cell_type": "code",
   "execution_count": 6,
   "metadata": {},
   "outputs": [],
   "source": [
    "from keras import models\n",
    "from keras import layers\n",
    "from keras.layers.core import Dense , Dropout , Activation\n",
    "\n",
    "xt = dt.drop(\"Y1\",axis=1)\n",
    "\n",
    "model = models.Sequential()\n",
    "model.add(layers.Dense(134 ,input_shape=(xt.shape[1],)))\n",
    "model.add(Activation(\"relu\"))\n",
    "model.add(Dropout(0.2))\n",
    "model.add(layers.Dense(67))\n",
    "model.add(Activation(\"relu\"))\n",
    "model.add(Dropout(0.2))\n",
    "model.add(layers.Dense(32))\n",
    "model.add(Activation(\"relu\"))\n",
    "model.add(Dropout(0.2))\n",
    "model.add(Dense(1))\n",
    "model.compile(optimizer='adam', loss='mse', metrics=['acc'])"
   ]
  },
  {
   "cell_type": "code",
   "execution_count": 7,
   "metadata": {},
   "outputs": [
    {
     "data": {
      "text/plain": [
       "(4000, 135)"
      ]
     },
     "execution_count": 7,
     "metadata": {},
     "output_type": "execute_result"
    }
   ],
   "source": [
    "fix_dt = dt.sample(frac = 1)\n",
    "\n",
    "fraud_dt = fix_dt.loc[dt['Y1'] == 1]\n",
    "non_fraud_dt = fix_dt.loc[dt['Y1'] == 0][:2000]\n",
    "\n",
    "normal_distributed_dt = pd.concat([fraud_dt, non_fraud_dt])\n",
    "\n",
    "new_dtf = normal_distributed_dt.sample(frac=1)\n",
    "# new_dt = normal_distributed_dt.sample(frac=1, random_state=42)\n",
    "\n",
    "new_dtf.shape"
   ]
  },
  {
   "cell_type": "code",
   "execution_count": 8,
   "metadata": {},
   "outputs": [
    {
     "name": "stdout",
     "output_type": "stream",
     "text": [
      "WARNING:tensorflow:From C:\\ProgramData\\Anaconda3\\lib\\site-packages\\keras\\backend\\tensorflow_backend.py:422: The name tf.global_variables is deprecated. Please use tf.compat.v1.global_variables instead.\n",
      "\n",
      "Epoch 1/100\n",
      "4000/4000 [==============================] - 0s 72us/step - loss: 1.5120 - acc: 0.4140\n",
      "Epoch 2/100\n",
      "4000/4000 [==============================] - 0s 27us/step - loss: 0.4666 - acc: 0.5415\n",
      "Epoch 3/100\n",
      "4000/4000 [==============================] - 0s 24us/step - loss: 0.3617 - acc: 0.5537\n",
      "Epoch 4/100\n",
      "4000/4000 [==============================] - 0s 22us/step - loss: 0.2982 - acc: 0.5940\n",
      "Epoch 5/100\n",
      "4000/4000 [==============================] - 0s 25us/step - loss: 0.2736 - acc: 0.6045\n",
      "Epoch 6/100\n",
      "4000/4000 [==============================] - 0s 24us/step - loss: 0.2746 - acc: 0.6133\n",
      "Epoch 7/100\n",
      "4000/4000 [==============================] - 0s 24us/step - loss: 0.2519 - acc: 0.6292\n",
      "Epoch 8/100\n",
      "4000/4000 [==============================] - 0s 24us/step - loss: 0.2508 - acc: 0.6240\n",
      "Epoch 9/100\n",
      "4000/4000 [==============================] - 0s 31us/step - loss: 0.2421 - acc: 0.6348\n",
      "Epoch 10/100\n",
      "4000/4000 [==============================] - 0s 33us/step - loss: 0.2308 - acc: 0.6482\n",
      "Epoch 11/100\n",
      "4000/4000 [==============================] - 0s 24us/step - loss: 0.2269 - acc: 0.6615\n",
      "Epoch 12/100\n",
      "4000/4000 [==============================] - 0s 25us/step - loss: 0.2193 - acc: 0.6643\n",
      "Epoch 13/100\n",
      "4000/4000 [==============================] - 0s 23us/step - loss: 0.2206 - acc: 0.6600\n",
      "Epoch 14/100\n",
      "4000/4000 [==============================] - 0s 27us/step - loss: 0.2160 - acc: 0.6660\n",
      "Epoch 15/100\n",
      "4000/4000 [==============================] - 0s 27us/step - loss: 0.2125 - acc: 0.6722\n",
      "Epoch 16/100\n",
      "4000/4000 [==============================] - 0s 23us/step - loss: 0.2119 - acc: 0.6765\n",
      "Epoch 17/100\n",
      "4000/4000 [==============================] - 0s 23us/step - loss: 0.2112 - acc: 0.6790\n",
      "Epoch 18/100\n",
      "4000/4000 [==============================] - 0s 31us/step - loss: 0.2061 - acc: 0.6880\n",
      "Epoch 19/100\n",
      "4000/4000 [==============================] - 0s 33us/step - loss: 0.2020 - acc: 0.6845\n",
      "Epoch 20/100\n",
      "4000/4000 [==============================] - 0s 28us/step - loss: 0.2015 - acc: 0.6923\n",
      "Epoch 21/100\n",
      "4000/4000 [==============================] - 0s 26us/step - loss: 0.1939 - acc: 0.7042\n",
      "Epoch 22/100\n",
      "4000/4000 [==============================] - 0s 23us/step - loss: 0.1968 - acc: 0.7017\n",
      "Epoch 23/100\n",
      "4000/4000 [==============================] - 0s 23us/step - loss: 0.1963 - acc: 0.7013\n",
      "Epoch 24/100\n",
      "4000/4000 [==============================] - 0s 25us/step - loss: 0.1936 - acc: 0.7088\n",
      "Epoch 25/100\n",
      "4000/4000 [==============================] - 0s 23us/step - loss: 0.1908 - acc: 0.7048\n",
      "Epoch 26/100\n",
      "4000/4000 [==============================] - 0s 25us/step - loss: 0.1918 - acc: 0.7082\n",
      "Epoch 27/100\n",
      "4000/4000 [==============================] - 0s 29us/step - loss: 0.1898 - acc: 0.7168\n",
      "Epoch 28/100\n",
      "4000/4000 [==============================] - 0s 32us/step - loss: 0.1893 - acc: 0.7150\n",
      "Epoch 29/100\n",
      "4000/4000 [==============================] - 0s 26us/step - loss: 0.1871 - acc: 0.7165\n",
      "Epoch 30/100\n",
      "4000/4000 [==============================] - 0s 25us/step - loss: 0.1872 - acc: 0.7185\n",
      "Epoch 31/100\n",
      "4000/4000 [==============================] - 0s 24us/step - loss: 0.1840 - acc: 0.7275\n",
      "Epoch 32/100\n",
      "4000/4000 [==============================] - 0s 29us/step - loss: 0.1852 - acc: 0.7203\n",
      "Epoch 33/100\n",
      "4000/4000 [==============================] - 0s 29us/step - loss: 0.1868 - acc: 0.7207\n",
      "Epoch 34/100\n",
      "4000/4000 [==============================] - 0s 26us/step - loss: 0.1793 - acc: 0.7365\n",
      "Epoch 35/100\n",
      "4000/4000 [==============================] - 0s 26us/step - loss: 0.1815 - acc: 0.7337\n",
      "Epoch 36/100\n",
      "4000/4000 [==============================] - 0s 31us/step - loss: 0.1779 - acc: 0.7343\n",
      "Epoch 37/100\n",
      "4000/4000 [==============================] - 0s 33us/step - loss: 0.1816 - acc: 0.7285\n",
      "Epoch 38/100\n",
      "4000/4000 [==============================] - 0s 33us/step - loss: 0.1779 - acc: 0.7370\n",
      "Epoch 39/100\n",
      "4000/4000 [==============================] - 0s 25us/step - loss: 0.1775 - acc: 0.7387\n",
      "Epoch 40/100\n",
      "4000/4000 [==============================] - 0s 25us/step - loss: 0.1796 - acc: 0.7387\n",
      "Epoch 41/100\n",
      "4000/4000 [==============================] - 0s 26us/step - loss: 0.1776 - acc: 0.7345\n",
      "Epoch 42/100\n",
      "4000/4000 [==============================] - 0s 23us/step - loss: 0.1772 - acc: 0.7358\n",
      "Epoch 43/100\n",
      "4000/4000 [==============================] - 0s 32us/step - loss: 0.1758 - acc: 0.7467\n",
      "Epoch 44/100\n",
      "4000/4000 [==============================] - 0s 34us/step - loss: 0.1768 - acc: 0.7445\n",
      "Epoch 45/100\n",
      "4000/4000 [==============================] - 0s 29us/step - loss: 0.1719 - acc: 0.7492\n",
      "Epoch 46/100\n",
      "4000/4000 [==============================] - 0s 24us/step - loss: 0.1707 - acc: 0.7515\n",
      "Epoch 47/100\n",
      "4000/4000 [==============================] - 0s 24us/step - loss: 0.1721 - acc: 0.7565\n",
      "Epoch 48/100\n",
      "4000/4000 [==============================] - 0s 26us/step - loss: 0.1717 - acc: 0.7475\n",
      "Epoch 49/100\n",
      "4000/4000 [==============================] - 0s 23us/step - loss: 0.1714 - acc: 0.7517\n",
      "Epoch 50/100\n",
      "4000/4000 [==============================] - 0s 24us/step - loss: 0.1686 - acc: 0.7605\n",
      "Epoch 51/100\n",
      "4000/4000 [==============================] - 0s 25us/step - loss: 0.1650 - acc: 0.7563\n",
      "Epoch 52/100\n",
      "4000/4000 [==============================] - 0s 24us/step - loss: 0.1640 - acc: 0.7660\n",
      "Epoch 53/100\n",
      "4000/4000 [==============================] - 0s 31us/step - loss: 0.1650 - acc: 0.7625\n",
      "Epoch 54/100\n",
      "4000/4000 [==============================] - 0s 26us/step - loss: 0.1638 - acc: 0.7617\n",
      "Epoch 55/100\n",
      "4000/4000 [==============================] - 0s 26us/step - loss: 0.1633 - acc: 0.7670\n",
      "Epoch 56/100\n",
      "4000/4000 [==============================] - 0s 23us/step - loss: 0.1657 - acc: 0.7595\n",
      "Epoch 57/100\n",
      "4000/4000 [==============================] - 0s 23us/step - loss: 0.1597 - acc: 0.7673\n",
      "Epoch 58/100\n",
      "4000/4000 [==============================] - 0s 23us/step - loss: 0.1578 - acc: 0.7810\n",
      "Epoch 59/100\n",
      "4000/4000 [==============================] - 0s 25us/step - loss: 0.1585 - acc: 0.7815\n",
      "Epoch 60/100\n",
      "4000/4000 [==============================] - 0s 28us/step - loss: 0.1606 - acc: 0.7680\n",
      "Epoch 61/100\n",
      "4000/4000 [==============================] - 0s 28us/step - loss: 0.1583 - acc: 0.7750\n",
      "Epoch 62/100\n",
      "4000/4000 [==============================] - 0s 30us/step - loss: 0.1546 - acc: 0.7860\n",
      "Epoch 63/100\n",
      "4000/4000 [==============================] - 0s 27us/step - loss: 0.1555 - acc: 0.7795\n",
      "Epoch 64/100\n",
      "4000/4000 [==============================] - 0s 28us/step - loss: 0.1505 - acc: 0.7910\n",
      "Epoch 65/100\n",
      "4000/4000 [==============================] - 0s 26us/step - loss: 0.1542 - acc: 0.7857\n",
      "Epoch 66/100\n",
      "4000/4000 [==============================] - 0s 22us/step - loss: 0.1514 - acc: 0.7908\n",
      "Epoch 67/100\n",
      "4000/4000 [==============================] - 0s 24us/step - loss: 0.1493 - acc: 0.7900\n",
      "Epoch 68/100\n",
      "4000/4000 [==============================] - 0s 24us/step - loss: 0.1489 - acc: 0.7965\n",
      "Epoch 69/100\n",
      "4000/4000 [==============================] - 0s 25us/step - loss: 0.1486 - acc: 0.7922\n",
      "Epoch 70/100\n",
      "4000/4000 [==============================] - 0s 24us/step - loss: 0.1464 - acc: 0.7947\n",
      "Epoch 71/100\n",
      "4000/4000 [==============================] - 0s 26us/step - loss: 0.1458 - acc: 0.8010\n",
      "Epoch 72/100\n",
      "4000/4000 [==============================] - 0s 24us/step - loss: 0.1460 - acc: 0.7997\n",
      "Epoch 73/100\n",
      "4000/4000 [==============================] - 0s 26us/step - loss: 0.1432 - acc: 0.8058\n",
      "Epoch 74/100\n",
      "4000/4000 [==============================] - 0s 25us/step - loss: 0.1448 - acc: 0.7975\n",
      "Epoch 75/100\n",
      "4000/4000 [==============================] - 0s 29us/step - loss: 0.1410 - acc: 0.8095\n",
      "Epoch 76/100\n",
      "4000/4000 [==============================] - 0s 28us/step - loss: 0.1412 - acc: 0.8073\n",
      "Epoch 77/100\n",
      "4000/4000 [==============================] - 0s 25us/step - loss: 0.1383 - acc: 0.8085\n",
      "Epoch 78/100\n",
      "4000/4000 [==============================] - 0s 22us/step - loss: 0.1413 - acc: 0.8085\n",
      "Epoch 79/100\n",
      "4000/4000 [==============================] - 0s 24us/step - loss: 0.1370 - acc: 0.8138\n",
      "Epoch 80/100\n",
      "4000/4000 [==============================] - 0s 24us/step - loss: 0.1368 - acc: 0.8145\n"
     ]
    },
    {
     "name": "stdout",
     "output_type": "stream",
     "text": [
      "Epoch 81/100\n",
      "4000/4000 [==============================] - 0s 23us/step - loss: 0.1336 - acc: 0.8188\n",
      "Epoch 82/100\n",
      "4000/4000 [==============================] - 0s 22us/step - loss: 0.1335 - acc: 0.8245\n",
      "Epoch 83/100\n",
      "4000/4000 [==============================] - 0s 26us/step - loss: 0.1305 - acc: 0.8253\n",
      "Epoch 84/100\n",
      "4000/4000 [==============================] - 0s 24us/step - loss: 0.1310 - acc: 0.8295\n",
      "Epoch 85/100\n",
      "4000/4000 [==============================] - 0s 23us/step - loss: 0.1330 - acc: 0.8207\n",
      "Epoch 86/100\n",
      "4000/4000 [==============================] - 0s 23us/step - loss: 0.1271 - acc: 0.8292\n",
      "Epoch 87/100\n",
      "4000/4000 [==============================] - 0s 22us/step - loss: 0.1279 - acc: 0.8290\n",
      "Epoch 88/100\n",
      "4000/4000 [==============================] - 0s 24us/step - loss: 0.1219 - acc: 0.8385\n",
      "Epoch 89/100\n",
      "4000/4000 [==============================] - 0s 24us/step - loss: 0.1246 - acc: 0.8357\n",
      "Epoch 90/100\n",
      "4000/4000 [==============================] - 0s 29us/step - loss: 0.1210 - acc: 0.8425\n",
      "Epoch 91/100\n",
      "4000/4000 [==============================] - 0s 29us/step - loss: 0.1261 - acc: 0.8338\n",
      "Epoch 92/100\n",
      "4000/4000 [==============================] - 0s 28us/step - loss: 0.1240 - acc: 0.8338\n",
      "Epoch 93/100\n",
      "4000/4000 [==============================] - 0s 29us/step - loss: 0.1176 - acc: 0.8475\n",
      "Epoch 94/100\n",
      "4000/4000 [==============================] - 0s 27us/step - loss: 0.1215 - acc: 0.8382\n",
      "Epoch 95/100\n",
      "4000/4000 [==============================] - 0s 23us/step - loss: 0.1174 - acc: 0.8497\n",
      "Epoch 96/100\n",
      "4000/4000 [==============================] - 0s 23us/step - loss: 0.1176 - acc: 0.8438\n",
      "Epoch 97/100\n",
      "4000/4000 [==============================] - 0s 27us/step - loss: 0.1132 - acc: 0.8577\n",
      "Epoch 98/100\n",
      "4000/4000 [==============================] - 0s 23us/step - loss: 0.1130 - acc: 0.8520\n",
      "Epoch 99/100\n",
      "4000/4000 [==============================] - 0s 25us/step - loss: 0.1162 - acc: 0.8470\n",
      "Epoch 100/100\n",
      "4000/4000 [==============================] - 0s 26us/step - loss: 0.1138 - acc: 0.8518\n"
     ]
    },
    {
     "data": {
      "text/plain": [
       "<keras.callbacks.callbacks.History at 0x14b04e2ba20>"
      ]
     },
     "execution_count": 8,
     "metadata": {},
     "output_type": "execute_result"
    }
   ],
   "source": [
    "x = new_dtf.drop(\"Y1\",axis=1)\n",
    "y = new_dtf[\"Y1\"]\n",
    "\n",
    "model.fit(x,y, epochs=100 , batch_size=134 ,verbose=1)"
   ]
  },
  {
   "cell_type": "code",
   "execution_count": 9,
   "metadata": {
    "scrolled": true
   },
   "outputs": [
    {
     "name": "stdout",
     "output_type": "stream",
     "text": [
      "4000/4000 [==============================] - 0s 28us/step\n"
     ]
    },
    {
     "data": {
      "text/plain": [
       "[0.08801659353077412, 0.8892499804496765]"
      ]
     },
     "execution_count": 9,
     "metadata": {},
     "output_type": "execute_result"
    }
   ],
   "source": [
    "model.evaluate(x,y)  "
   ]
  },
  {
   "cell_type": "code",
   "execution_count": 11,
   "metadata": {},
   "outputs": [
    {
     "name": "stdout",
     "output_type": "stream",
     "text": [
      "100000/100000 [==============================] - 2s 16us/step\n"
     ]
    },
    {
     "data": {
      "text/plain": [
       "[0.05271474522635341, 0.9999799728393555]"
      ]
     },
     "execution_count": 11,
     "metadata": {},
     "output_type": "execute_result"
    }
   ],
   "source": [
    "model.evaluate(x1,test_y_predicted)"
   ]
  },
  {
   "cell_type": "markdown",
   "metadata": {},
   "source": [
    "# 預測"
   ]
  },
  {
   "cell_type": "markdown",
   "metadata": {},
   "source": [
    "df = pd.read_csv('../test.csv' , encoding='big5')"
   ]
  },
  {
   "cell_type": "code",
   "execution_count": 13,
   "metadata": {},
   "outputs": [
    {
     "data": {
      "text/plain": [
       "(150000, 134)"
      ]
     },
     "execution_count": 13,
     "metadata": {},
     "output_type": "execute_result"
    }
   ],
   "source": [
    "df = data_cl(df)\n",
    "df.shape"
   ]
  },
  {
   "cell_type": "code",
   "execution_count": 14,
   "metadata": {},
   "outputs": [],
   "source": [
    "test_y_predicted = model.predict_classes(df)"
   ]
  },
  {
   "cell_type": "code",
   "execution_count": 15,
   "metadata": {},
   "outputs": [
    {
     "data": {
      "text/plain": [
       "42412"
      ]
     },
     "execution_count": 15,
     "metadata": {},
     "output_type": "execute_result"
    }
   ],
   "source": [
    "test_y_predicted.sum()"
   ]
  },
  {
   "cell_type": "code",
   "execution_count": 16,
   "metadata": {},
   "outputs": [],
   "source": [
    "fin = pd.read_csv('../submit_test.csv' , encoding='big5')\n",
    "fin[\"Ypred\"] = test_y_predicted\n",
    "fin.to_csv('submit_test.csv')"
   ]
  }
 ],
 "metadata": {
  "kernelspec": {
   "display_name": "Python 3",
   "language": "python",
   "name": "python3"
  },
  "language_info": {
   "codemirror_mode": {
    "name": "ipython",
    "version": 3
   },
   "file_extension": ".py",
   "mimetype": "text/x-python",
   "name": "python",
   "nbconvert_exporter": "python",
   "pygments_lexer": "ipython3",
   "version": "3.7.3"
  }
 },
 "nbformat": 4,
 "nbformat_minor": 2
}
