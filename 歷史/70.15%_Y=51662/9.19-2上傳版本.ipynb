{
 "cells": [
  {
   "cell_type": "code",
   "execution_count": 1,
   "metadata": {},
   "outputs": [],
   "source": [
    "import pandas as pd\n",
    "import numpy as np\n",
    "from sklearn.preprocessing import LabelEncoder\n",
    "from sklearn import ensemble, preprocessing, metrics\n",
    "from sklearn.ensemble import RandomForestClassifier\n",
    "from sklearn.model_selection import train_test_split\n",
    "from sklearn.linear_model import LogisticRegression \n",
    "from sklearn.metrics import confusion_matrix, classification_report "
   ]
  },
  {
   "cell_type": "code",
   "execution_count": 33,
   "metadata": {
    "scrolled": true
   },
   "outputs": [
    {
     "name": "stderr",
     "output_type": "stream",
     "text": [
      "C:\\Users\\cglog\\Anaconda3\\lib\\site-packages\\IPython\\core\\interactiveshell.py:3049: DtypeWarning: Columns (17,21,22) have mixed types. Specify dtype option on import or set low_memory=False.\n",
      "  interactivity=interactivity, compiler=compiler, result=result)\n"
     ]
    }
   ],
   "source": [
    "data_train = pd.read_csv('../train.csv' , encoding='big5')\n",
    "data_test = pd.read_csv('../test.csv' , encoding='big5')"
   ]
  },
  {
   "cell_type": "code",
   "execution_count": 34,
   "metadata": {},
   "outputs": [
    {
     "data": {
      "text/plain": [
       "683"
      ]
     },
     "execution_count": 34,
     "metadata": {},
     "output_type": "execute_result"
    }
   ],
   "source": [
    "data_train['GENDER'].isnull().sum()"
   ]
  },
  {
   "cell_type": "code",
   "execution_count": 35,
   "metadata": {},
   "outputs": [],
   "source": [
    "data_train['AGE'] = data_train['AGE'].map({'低' : 0, '中' : 1,'中高' : 2, '高' : 3}).astype('int')\n",
    "data_train['CHARGE_CITY_CD'] = data_train['CHARGE_CITY_CD'].map({'A1' : 0, 'A2' : 1,'B1' : 2, 'B2' : 3, 'C1' : 4, 'C2' : 5, 'D' : 6, 'E' : 7}).astype('int')\n",
    "data_train['CONTACT_CITY_CD'] = data_train['CONTACT_CITY_CD'].map({'A1' : 0, 'A2' : 1,'B1' : 2, 'B2' : 3, 'C1' : 4, 'C2' : 5, 'D' : 6, 'E' : 7}).astype('int')\n",
    "data_train['LAST_A_CCONTACT_DT'] = data_train['LAST_A_CCONTACT_DT'].map({'N' : 0, 'Y' : 1}).astype('int')\n",
    "data_train['LAST_A_ISSUE_DT'] = data_train['LAST_A_ISSUE_DT'].map({'N' : 0, 'Y' : 1}).astype('int')\n",
    "data_train['LAST_B_ISSUE_DT'] = data_train['LAST_B_ISSUE_DT'].map({'N' : 0, 'Y' : 1}).astype('int')\n",
    "data_train['Y1'] = data_train['Y1'].map({'N' : 0, 'Y' : 1}).astype('int')\n",
    "\n",
    "\n",
    "data_test['AGE'] = data_test['AGE'].map({'低' : 0, '中' : 1,'中高' : 2, '高' : 3}).astype('int')\n",
    "data_test['CHARGE_CITY_CD'] = data_test['CHARGE_CITY_CD'].map({'A1' : 0, 'A2' : 1,'B1' : 2, 'B2' : 3, 'C1' : 4, 'C2' : 5, 'D' : 6, 'E' : 7}).astype('int')\n",
    "data_test['CONTACT_CITY_CD'] = data_test['CONTACT_CITY_CD'].map({'A1' : 0, 'A2' : 1,'B1' : 2, 'B2' : 3, 'C1' : 4, 'C2' : 5, 'D' : 6, 'E' : 7}).astype('int')\n",
    "data_test['LAST_A_CCONTACT_DT'] = data_test['LAST_A_CCONTACT_DT'].map({'N' : 0, 'Y' : 1}).astype('int')\n",
    "data_test['LAST_A_ISSUE_DT'] = data_test['LAST_A_ISSUE_DT'].map({'N' : 0, 'Y' : 1}).astype('int')\n",
    "data_test['LAST_B_ISSUE_DT'] = data_test['LAST_B_ISSUE_DT'].map({'N' : 0, 'Y' : 1}).astype('int')\n"
   ]
  },
  {
   "cell_type": "code",
   "execution_count": 36,
   "metadata": {},
   "outputs": [],
   "source": [
    "data_train['EDUCATION_CD'] = data_train['EDUCATION_CD'].fillna(2)\n",
    "data_test['EDUCATION_CD'] = data_test['EDUCATION_CD'].fillna(2)"
   ]
  },
  {
   "cell_type": "code",
   "execution_count": 37,
   "metadata": {},
   "outputs": [],
   "source": [
    "dt = data_train"
   ]
  },
  {
   "cell_type": "code",
   "execution_count": 38,
   "metadata": {},
   "outputs": [],
   "source": [
    "ohi = pd.get_dummies(dt[\"GENDER\"])\n",
    "ohi\n",
    "dt = dt.drop(\"GENDER\",axis=1)\n",
    "dt = pd.concat([ohi,dt],axis=1)"
   ]
  },
  {
   "cell_type": "code",
   "execution_count": 39,
   "metadata": {},
   "outputs": [
    {
     "data": {
      "text/plain": [
       "(4000, 133)"
      ]
     },
     "execution_count": 39,
     "metadata": {},
     "output_type": "execute_result"
    }
   ],
   "source": [
    "dt = dt.sample(frac = 1)\n",
    "\n",
    "fraud_dt = dt.loc[dt['Y1'] == 1]\n",
    "non_fraud_dt = dt.loc[dt['Y1'] == 0][:2000]\n",
    "\n",
    "normal_distributed_dt = pd.concat([fraud_dt, non_fraud_dt])\n",
    "\n",
    "new_dt = normal_distributed_dt.sample(frac=1)\n",
    "# new_dt = normal_distributed_dt.sample(frac=1, random_state=42)\n",
    "\n",
    "new_dt.shape"
   ]
  },
  {
   "cell_type": "code",
   "execution_count": 40,
   "metadata": {},
   "outputs": [
    {
     "data": {
      "text/html": [
       "<div>\n",
       "<style scoped>\n",
       "    .dataframe tbody tr th:only-of-type {\n",
       "        vertical-align: middle;\n",
       "    }\n",
       "\n",
       "    .dataframe tbody tr th {\n",
       "        vertical-align: top;\n",
       "    }\n",
       "\n",
       "    .dataframe thead th {\n",
       "        text-align: right;\n",
       "    }\n",
       "</style>\n",
       "<table border=\"1\" class=\"dataframe\">\n",
       "  <thead>\n",
       "    <tr style=\"text-align: right;\">\n",
       "      <th></th>\n",
       "      <th>F</th>\n",
       "      <th>M</th>\n",
       "      <th>CUS_ID</th>\n",
       "      <th>AGE</th>\n",
       "      <th>CHARGE_CITY_CD</th>\n",
       "      <th>CONTACT_CITY_CD</th>\n",
       "      <th>EDUCATION_CD</th>\n",
       "      <th>MARRIAGE_CD</th>\n",
       "      <th>LAST_A_CCONTACT_DT</th>\n",
       "      <th>L1YR_A_ISSUE_CNT</th>\n",
       "      <th>...</th>\n",
       "      <th>L1YR_GROSS_PRE_AMT</th>\n",
       "      <th>CUST_9_SEGMENTS_CD</th>\n",
       "      <th>FINANCETOOLS_A</th>\n",
       "      <th>FINANCETOOLS_B</th>\n",
       "      <th>FINANCETOOLS_C</th>\n",
       "      <th>FINANCETOOLS_D</th>\n",
       "      <th>FINANCETOOLS_E</th>\n",
       "      <th>FINANCETOOLS_F</th>\n",
       "      <th>FINANCETOOLS_G</th>\n",
       "      <th>Y1</th>\n",
       "    </tr>\n",
       "  </thead>\n",
       "  <tbody>\n",
       "    <tr>\n",
       "      <th>82416</th>\n",
       "      <td>1</td>\n",
       "      <td>0</td>\n",
       "      <td>1559922</td>\n",
       "      <td>3</td>\n",
       "      <td>2</td>\n",
       "      <td>2</td>\n",
       "      <td>3.0</td>\n",
       "      <td>1.0</td>\n",
       "      <td>1</td>\n",
       "      <td>4</td>\n",
       "      <td>...</td>\n",
       "      <td>0.021465</td>\n",
       "      <td>B</td>\n",
       "      <td>NaN</td>\n",
       "      <td>NaN</td>\n",
       "      <td>NaN</td>\n",
       "      <td>NaN</td>\n",
       "      <td>NaN</td>\n",
       "      <td>NaN</td>\n",
       "      <td>NaN</td>\n",
       "      <td>1</td>\n",
       "    </tr>\n",
       "    <tr>\n",
       "      <th>99447</th>\n",
       "      <td>1</td>\n",
       "      <td>0</td>\n",
       "      <td>1030651</td>\n",
       "      <td>3</td>\n",
       "      <td>2</td>\n",
       "      <td>4</td>\n",
       "      <td>2.0</td>\n",
       "      <td>2.0</td>\n",
       "      <td>0</td>\n",
       "      <td>0</td>\n",
       "      <td>...</td>\n",
       "      <td>0.000000</td>\n",
       "      <td>H</td>\n",
       "      <td>Y</td>\n",
       "      <td>N</td>\n",
       "      <td>N</td>\n",
       "      <td>N</td>\n",
       "      <td>N</td>\n",
       "      <td>N</td>\n",
       "      <td>Y</td>\n",
       "      <td>0</td>\n",
       "    </tr>\n",
       "    <tr>\n",
       "      <th>9724</th>\n",
       "      <td>0</td>\n",
       "      <td>1</td>\n",
       "      <td>1132351</td>\n",
       "      <td>1</td>\n",
       "      <td>0</td>\n",
       "      <td>0</td>\n",
       "      <td>3.0</td>\n",
       "      <td>1.0</td>\n",
       "      <td>1</td>\n",
       "      <td>0</td>\n",
       "      <td>...</td>\n",
       "      <td>0.000732</td>\n",
       "      <td>G</td>\n",
       "      <td>N</td>\n",
       "      <td>N</td>\n",
       "      <td>N</td>\n",
       "      <td>N</td>\n",
       "      <td>N</td>\n",
       "      <td>N</td>\n",
       "      <td>N</td>\n",
       "      <td>1</td>\n",
       "    </tr>\n",
       "    <tr>\n",
       "      <th>16153</th>\n",
       "      <td>1</td>\n",
       "      <td>0</td>\n",
       "      <td>384354</td>\n",
       "      <td>3</td>\n",
       "      <td>0</td>\n",
       "      <td>0</td>\n",
       "      <td>2.0</td>\n",
       "      <td>1.0</td>\n",
       "      <td>0</td>\n",
       "      <td>0</td>\n",
       "      <td>...</td>\n",
       "      <td>0.000122</td>\n",
       "      <td>H</td>\n",
       "      <td>Y</td>\n",
       "      <td>N</td>\n",
       "      <td>Y</td>\n",
       "      <td>N</td>\n",
       "      <td>N</td>\n",
       "      <td>N</td>\n",
       "      <td>Y</td>\n",
       "      <td>1</td>\n",
       "    </tr>\n",
       "    <tr>\n",
       "      <th>653</th>\n",
       "      <td>1</td>\n",
       "      <td>0</td>\n",
       "      <td>1142345</td>\n",
       "      <td>0</td>\n",
       "      <td>1</td>\n",
       "      <td>1</td>\n",
       "      <td>2.0</td>\n",
       "      <td>0.0</td>\n",
       "      <td>1</td>\n",
       "      <td>1</td>\n",
       "      <td>...</td>\n",
       "      <td>0.000214</td>\n",
       "      <td>C</td>\n",
       "      <td>NaN</td>\n",
       "      <td>NaN</td>\n",
       "      <td>NaN</td>\n",
       "      <td>NaN</td>\n",
       "      <td>NaN</td>\n",
       "      <td>NaN</td>\n",
       "      <td>NaN</td>\n",
       "      <td>1</td>\n",
       "    </tr>\n",
       "  </tbody>\n",
       "</table>\n",
       "<p>5 rows × 133 columns</p>\n",
       "</div>"
      ],
      "text/plain": [
       "       F  M   CUS_ID  AGE  CHARGE_CITY_CD  CONTACT_CITY_CD  EDUCATION_CD  \\\n",
       "82416  1  0  1559922    3               2                2           3.0   \n",
       "99447  1  0  1030651    3               2                4           2.0   \n",
       "9724   0  1  1132351    1               0                0           3.0   \n",
       "16153  1  0   384354    3               0                0           2.0   \n",
       "653    1  0  1142345    0               1                1           2.0   \n",
       "\n",
       "       MARRIAGE_CD  LAST_A_CCONTACT_DT  L1YR_A_ISSUE_CNT  ...  \\\n",
       "82416          1.0                   1                 4  ...   \n",
       "99447          2.0                   0                 0  ...   \n",
       "9724           1.0                   1                 0  ...   \n",
       "16153          1.0                   0                 0  ...   \n",
       "653            0.0                   1                 1  ...   \n",
       "\n",
       "       L1YR_GROSS_PRE_AMT  CUST_9_SEGMENTS_CD  FINANCETOOLS_A  FINANCETOOLS_B  \\\n",
       "82416            0.021465                   B             NaN             NaN   \n",
       "99447            0.000000                   H               Y               N   \n",
       "9724             0.000732                   G               N               N   \n",
       "16153            0.000122                   H               Y               N   \n",
       "653              0.000214                   C             NaN             NaN   \n",
       "\n",
       "       FINANCETOOLS_C  FINANCETOOLS_D  FINANCETOOLS_E  FINANCETOOLS_F  \\\n",
       "82416             NaN             NaN             NaN             NaN   \n",
       "99447               N               N               N               N   \n",
       "9724                N               N               N               N   \n",
       "16153               Y               N               N               N   \n",
       "653               NaN             NaN             NaN             NaN   \n",
       "\n",
       "      FINANCETOOLS_G Y1  \n",
       "82416            NaN  1  \n",
       "99447              Y  0  \n",
       "9724               N  1  \n",
       "16153              Y  1  \n",
       "653              NaN  1  \n",
       "\n",
       "[5 rows x 133 columns]"
      ]
     },
     "execution_count": 40,
     "metadata": {},
     "output_type": "execute_result"
    }
   ],
   "source": [
    "new_dt.head()"
   ]
  },
  {
   "cell_type": "code",
   "execution_count": 41,
   "metadata": {},
   "outputs": [],
   "source": [
    "from sklearn import  ensemble, preprocessing, metrics\n",
    "from sklearn.model_selection import train_test_split\n",
    "\n",
    "x = new_dt[['AGE','CHARGE_CITY_CD','CONTACT_CITY_CD','EDUCATION_CD','LAST_A_CCONTACT_DT','L1YR_A_ISSUE_CNT','LAST_A_ISSUE_DT','L1YR_B_ISSUE_CNT','LAST_B_ISSUE_DT']]\n",
    "y = new_dt[\"Y1\"]\n",
    "train_X, test_X, train_y, test_y = train_test_split(x, y, test_size = 0.333)\n",
    "\n",
    "forest = ensemble.RandomForestClassifier(n_estimators = 200)\n",
    "forest_fit = forest.fit(train_X, train_y)"
   ]
  },
  {
   "cell_type": "code",
   "execution_count": 42,
   "metadata": {},
   "outputs": [
    {
     "name": "stdout",
     "output_type": "stream",
     "text": [
      "0.7099744897959183\n"
     ]
    }
   ],
   "source": [
    "x1 = dt[['AGE','CHARGE_CITY_CD','CONTACT_CITY_CD','EDUCATION_CD','LAST_A_CCONTACT_DT','L1YR_A_ISSUE_CNT','LAST_A_ISSUE_DT','L1YR_B_ISSUE_CNT','LAST_B_ISSUE_DT']]\n",
    "y1 = dt[\"Y1\"]\n",
    "test_y_predicted = forest.predict(x1)\n",
    "\n",
    "# 績效\n",
    "fpr, tpr, thresholds = metrics.roc_curve(y1, test_y_predicted)\n",
    "auc = metrics.auc(fpr, tpr)\n",
    "print(auc)"
   ]
  },
  {
   "cell_type": "code",
   "execution_count": null,
   "metadata": {},
   "outputs": [],
   "source": []
  }
 ],
 "metadata": {
  "kernelspec": {
   "display_name": "Python 3",
   "language": "python",
   "name": "python3"
  },
  "language_info": {
   "codemirror_mode": {
    "name": "ipython",
    "version": 3
   },
   "file_extension": ".py",
   "mimetype": "text/x-python",
   "name": "python",
   "nbconvert_exporter": "python",
   "pygments_lexer": "ipython3",
   "version": "3.7.3"
  }
 },
 "nbformat": 4,
 "nbformat_minor": 2
}
